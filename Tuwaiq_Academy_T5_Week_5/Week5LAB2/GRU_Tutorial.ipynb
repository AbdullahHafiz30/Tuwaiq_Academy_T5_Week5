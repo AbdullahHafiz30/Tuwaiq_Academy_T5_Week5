{
 "cells": [
  {
   "cell_type": "markdown",
   "id": "681b62de",
   "metadata": {},
   "source": [
    "\n",
    "# GRU for Stock Price Prediction\n",
    "\n",
    "## 1. Introduction\n",
    "\n",
    "In this tutorial, we will use a Gated Recurrent Unit (GRU) model to predict stock prices based on historical data. GRUs are particularly well-suited for sequential data like stock prices because they can capture temporal dependencies and patterns.\n",
    "\n",
    "## 2. Stock Data\n",
    "\n",
    "We will use stock data from Yahoo Finance, which contains information like the opening, closing, high, low prices, and volume traded over time.\n",
    "\n",
    "Let's start by fetching the stock data.\n",
    "    "
   ]
  },
  {
   "cell_type": "code",
   "execution_count": null,
   "id": "f8e8ae78",
   "metadata": {},
   "outputs": [],
   "source": [
    "\n",
    "import pandas as pd\n",
    "import numpy as np\n",
    "import yfinance as yf\n",
    "\n",
    "# Fetch stock data from Yahoo Finance\n",
    "ticker = 'AAPL'\n",
    "data = yf.download(ticker, start='2015-01-01', end='2023-01-01')\n",
    "\n",
    "# Display the first few rows\n",
    "data.head()\n",
    "    "
   ]
  },
  {
   "cell_type": "markdown",
   "id": "04b2a8c8",
   "metadata": {},
   "source": [
    "\n",
    "## 3. Preprocessing the Data\n",
    "\n",
    "We will preprocess the data by normalizing the closing prices and creating sequences that the GRU can learn from.\n",
    "    "
   ]
  },
  {
   "cell_type": "code",
   "execution_count": null,
   "id": "614b254e",
   "metadata": {},
   "outputs": [],
   "source": [
    "\n",
    "from sklearn.preprocessing import MinMaxScaler\n",
    "\n",
    "# We will use the 'Close' column as our target variable\n",
    "data = data[['Close']]\n",
    "\n",
    "# Normalize the data\n",
    "scaler = MinMaxScaler(feature_range=(0, 1))\n",
    "scaled_data = scaler.fit_transform(data)\n",
    "\n",
    "# Create sequences for the GRU model\n",
    "def create_sequences(data, seq_length):\n",
    "    X = []\n",
    "    y = []\n",
    "    for i in range(seq_length, len(data)):\n",
    "        X.append(data[i-seq_length:i, 0])\n",
    "        y.append(data[i, 0])\n",
    "    return np.array(X), np.array(y)\n",
    "\n",
    "# Define sequence length\n",
    "seq_length = 60  # Using 60 days of data to predict the next day\n",
    "\n",
    "# Create the sequences\n",
    "X, y = create_sequences(scaled_data, seq_length)\n",
    "\n",
    "# Reshape the data for the GRU model\n",
    "X = X.reshape((X.shape[0], X.shape[1], 1))\n",
    "\n",
    "# Split the data into training and test sets\n",
    "split = int(0.8 * len(X))\n",
    "X_train, X_test = X[:split], X[split:]\n",
    "y_train, y_test = y[:split], y[split:]\n",
    "    "
   ]
  },
  {
   "cell_type": "markdown",
   "id": "e54bafe9",
   "metadata": {},
   "source": [
    "\n",
    "## 4. Building the GRU Model\n",
    "\n",
    "Now, let's build the GRU model using TensorFlow/Keras.\n",
    "    "
   ]
  },
  {
   "cell_type": "code",
   "execution_count": null,
   "id": "ea712e05",
   "metadata": {},
   "outputs": [],
   "source": [
    "\n",
    "import tensorflow as tf\n",
    "from tensorflow.keras.models import Sequential\n",
    "from tensorflow.keras.layers import GRU, Dense\n",
    "\n",
    "# Build the GRU model\n",
    "model = Sequential([\n",
    "    GRU(units=50, return_sequences=True, input_shape=(X_train.shape[1], 1)),\n",
    "    GRU(units=50, return_sequences=False),\n",
    "    Dense(units=25),\n",
    "    Dense(units=1)\n",
    "])\n",
    "\n",
    "# Compile the model\n",
    "model.compile(optimizer='adam', loss='mean_squared_error')\n",
    "\n",
    "# Train the model\n",
    "history = model.fit(X_train, y_train, epochs=10, batch_size=32, validation_data=(X_test, y_test))\n",
    "    "
   ]
  },
  {
   "cell_type": "markdown",
   "id": "d4646cbe",
   "metadata": {},
   "source": [
    "\n",
    "## 5. Evaluating the Model\n",
    "\n",
    "Let's evaluate the model's performance on the test set.\n",
    "    "
   ]
  },
  {
   "cell_type": "code",
   "execution_count": null,
   "id": "c6544605",
   "metadata": {},
   "outputs": [],
   "source": [
    "\n",
    "# Make predictions\n",
    "predicted_stock_price = model.predict(X_test)\n",
    "\n",
    "# Inverse transform to get actual stock prices\n",
    "predicted_stock_price = scaler.inverse_transform(predicted_stock_price.reshape(-1, 1))\n",
    "y_test_actual = scaler.inverse_transform(y_test.reshape(-1, 1))\n",
    "\n",
    "# Plot the results\n",
    "import matplotlib.pyplot as plt\n",
    "\n",
    "plt.figure(figsize=(10, 6))\n",
    "plt.plot(y_test_actual, color='blue', label='Actual Stock Price')\n",
    "plt.plot(predicted_stock_price, color='red', label='Predicted Stock Price')\n",
    "plt.title(f'{ticker} Stock Price Prediction')\n",
    "plt.xlabel('Time')\n",
    "plt.ylabel('Stock Price')\n",
    "plt.legend()\n",
    "plt.show()\n",
    "    "
   ]
  },
  {
   "cell_type": "markdown",
   "id": "9a1153ec",
   "metadata": {},
   "source": [
    "\n",
    "## 6. Conclusion\n",
    "\n",
    "In this notebook, we used a GRU model to predict stock prices based on historical data. GRUs are effective for time series forecasting tasks like this one, where the temporal dependencies in the data are important for making accurate predictions.\n",
    "    "
   ]
  }
 ],
 "metadata": {},
 "nbformat": 4,
 "nbformat_minor": 5
}
