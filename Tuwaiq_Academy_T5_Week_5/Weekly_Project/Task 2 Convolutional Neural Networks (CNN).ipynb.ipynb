{
 "cells": [
  {
   "cell_type": "markdown",
   "id": "69e7471b",
   "metadata": {},
   "source": [
    "# Exam on Convolutional Neural Networks (CNN)\n",
    "\n",
    "Welcome to the Convolutional Neural Networks (CNN) practical exam. In this exam, you will work on an image classification task to predict the type of traffic sign. You are provided with a dataset of traffic sign images, and your task is to build, train, and evaluate a CNN model.\n",
    "\n",
    "---\n",
    "\n",
    "## Dataset Overview\n",
    "### **Dataset:**\n",
    "* Just run the command under the `Load Data` section to get the data downloaded and unzipped or you can access it [here](https://drive.google.com/file/d/1HwMV-Lt_sWoxc5v6igmTxTwomS3DR6cQ/view?usp=sharing)\n",
    "### **Dataset Name:** Traffic Signs\n",
    "\n",
    "### **Description:**  \n",
    "The dataset contains images of various German traffic signs labeled for classification purposes. Each image belongs to one of the 43 classes, representing different types of traffic signs.\n",
    "\n",
    "### **Labels:**\n",
    "```python\n",
    "classes = {\n",
    "    0:  'Speed limit (20km/h)',\n",
    "    1:  'Speed limit (30km/h)', \n",
    "    2:  'Speed limit (50km/h)', \n",
    "    3:  'Speed limit (60km/h)', \n",
    "    4:  'Speed limit (70km/h)', \n",
    "    5:  'Speed limit (80km/h)', \n",
    "    6:  'End of speed limit (80km/h)', \n",
    "    7:  'Speed limit (100km/h)', \n",
    "    8:  'Speed limit (120km/h)', \n",
    "    9:  'No passing', \n",
    "    10: 'No passing veh over 3.5 tons', \n",
    "    11: 'Right-of-way at intersection', \n",
    "    12: 'Priority road', \n",
    "    13: 'Yield', \n",
    "    14: 'Stop', \n",
    "    15: 'No vehicles', \n",
    "    16: 'Veh > 3.5 tons prohibited', \n",
    "    17: 'No entry', \n",
    "    18: 'General caution', \n",
    "    19: 'Dangerous curve left', \n",
    "    20: 'Dangerous curve right', \n",
    "    21: 'Double curve', \n",
    "    22: 'Bumpy road', \n",
    "    23: 'Slippery road', \n",
    "    24: 'Road narrows on the right', \n",
    "    25: 'Road work', \n",
    "    26: 'Traffic signals', \n",
    "    27: 'Pedestrians', \n",
    "    28: 'Children crossing', \n",
    "    29: 'Bicycles crossing', \n",
    "    30: 'Beware of ice/snow',\n",
    "    31: 'Wild animals crossing', \n",
    "    32: 'End speed + passing limits', \n",
    "    33: 'Turn right ahead', \n",
    "    34: 'Turn left ahead', \n",
    "    35: 'Ahead only', \n",
    "    36: 'Go straight or right', \n",
    "    37: 'Go straight or left', \n",
    "    38: 'Keep right', \n",
    "    39: 'Keep left', \n",
    "    40: 'Roundabout mandatory', \n",
    "    41: 'End of no passing', \n",
    "    42: 'End no passing veh > 3.5 tons'\n",
    "}\n",
    "```\n",
    "\n"
   ]
  },
  {
   "cell_type": "markdown",
   "id": "66c6f645",
   "metadata": {},
   "source": [
    "## Load Data\n",
    "Run the following command to get the data and unzip it, alternatively you can access the data [here](https://drive.google.com/file/d/1HwMV-Lt_sWoxc5v6igmTxTwomS3DR6cQ/view?usp=sharing)."
   ]
  },
  {
   "cell_type": "code",
   "execution_count": 1,
   "id": "ee08de6b",
   "metadata": {},
   "outputs": [
    {
     "name": "stdout",
     "output_type": "stream",
     "text": [
      "Requirement already satisfied: gdown in c:\\users\\abo_o\\appdata\\local\\packages\\pythonsoftwarefoundation.python.3.11_qbz5n2kfra8p0\\localcache\\local-packages\\python311\\site-packages (5.2.0)\n",
      "Requirement already satisfied: beautifulsoup4 in c:\\users\\abo_o\\appdata\\local\\packages\\pythonsoftwarefoundation.python.3.11_qbz5n2kfra8p0\\localcache\\local-packages\\python311\\site-packages (from gdown) (4.12.3)\n",
      "Requirement already satisfied: filelock in c:\\users\\abo_o\\appdata\\local\\packages\\pythonsoftwarefoundation.python.3.11_qbz5n2kfra8p0\\localcache\\local-packages\\python311\\site-packages (from gdown) (3.15.4)\n",
      "Requirement already satisfied: requests[socks] in c:\\users\\abo_o\\appdata\\local\\packages\\pythonsoftwarefoundation.python.3.11_qbz5n2kfra8p0\\localcache\\local-packages\\python311\\site-packages (from gdown) (2.32.3)\n",
      "Requirement already satisfied: tqdm in c:\\users\\abo_o\\appdata\\local\\packages\\pythonsoftwarefoundation.python.3.11_qbz5n2kfra8p0\\localcache\\local-packages\\python311\\site-packages (from gdown) (4.66.5)\n",
      "Requirement already satisfied: soupsieve>1.2 in c:\\users\\abo_o\\appdata\\local\\packages\\pythonsoftwarefoundation.python.3.11_qbz5n2kfra8p0\\localcache\\local-packages\\python311\\site-packages (from beautifulsoup4->gdown) (2.5)\n",
      "Requirement already satisfied: charset-normalizer<4,>=2 in c:\\users\\abo_o\\appdata\\local\\packages\\pythonsoftwarefoundation.python.3.11_qbz5n2kfra8p0\\localcache\\local-packages\\python311\\site-packages (from requests[socks]->gdown) (3.3.2)\n",
      "Requirement already satisfied: idna<4,>=2.5 in c:\\users\\abo_o\\appdata\\local\\packages\\pythonsoftwarefoundation.python.3.11_qbz5n2kfra8p0\\localcache\\local-packages\\python311\\site-packages (from requests[socks]->gdown) (3.7)\n",
      "Requirement already satisfied: urllib3<3,>=1.21.1 in c:\\users\\abo_o\\appdata\\local\\packages\\pythonsoftwarefoundation.python.3.11_qbz5n2kfra8p0\\localcache\\local-packages\\python311\\site-packages (from requests[socks]->gdown) (2.2.2)\n",
      "Requirement already satisfied: certifi>=2017.4.17 in c:\\users\\abo_o\\appdata\\local\\packages\\pythonsoftwarefoundation.python.3.11_qbz5n2kfra8p0\\localcache\\local-packages\\python311\\site-packages (from requests[socks]->gdown) (2024.7.4)\n",
      "Requirement already satisfied: PySocks!=1.5.7,>=1.5.6 in c:\\users\\abo_o\\appdata\\local\\packages\\pythonsoftwarefoundation.python.3.11_qbz5n2kfra8p0\\localcache\\local-packages\\python311\\site-packages (from requests[socks]->gdown) (1.7.1)\n",
      "Requirement already satisfied: colorama in c:\\users\\abo_o\\appdata\\local\\packages\\pythonsoftwarefoundation.python.3.11_qbz5n2kfra8p0\\localcache\\local-packages\\python311\\site-packages (from tqdm->gdown) (0.4.6)\n"
     ]
    },
    {
     "name": "stderr",
     "output_type": "stream",
     "text": [
      "C:\\Users\\abo_O\\AppData\\Local\\Packages\\PythonSoftwareFoundation.Python.3.11_qbz5n2kfra8p0\\LocalCache\\local-packages\\Python311\\site-packages\\gdown\\__main__.py:140: FutureWarning: Option `--id` was deprecated in version 4.3.1 and will be removed in 5.0. You don't need to pass it anymore to use a file ID.\n",
      "  warnings.warn(\n",
      "Downloading...\n",
      "From (original): https://drive.google.com/uc?id=1HwMV-Lt_sWoxc5v6igmTxTwomS3DR6cQ\n",
      "From (redirected): https://drive.google.com/uc?id=1HwMV-Lt_sWoxc5v6igmTxTwomS3DR6cQ&confirm=t&uuid=b5d9e435-68a6-45ab-a7c5-a3be79ca7846\n",
      "To: C:\\Users\\abo_O\\AppData\\Local\\Programs\\Microsoft VS Code\\Traffic_Signs.zip\n",
      "\n",
      "  0%|          | 0.00/244M [00:00<?, ?B/s]\n",
      "  0%|          | 524k/244M [00:00<05:40, 715kB/s]\n",
      "  0%|          | 1.05M/244M [00:01<03:36, 1.12MB/s]\n",
      "  1%|          | 1.57M/244M [00:01<02:57, 1.37MB/s]\n",
      "  1%|          | 2.10M/244M [00:01<02:38, 1.53MB/s]\n",
      "  1%|          | 2.62M/244M [00:01<02:29, 1.61MB/s]\n",
      "  1%|▏         | 3.15M/244M [00:02<02:28, 1.63MB/s]\n",
      "  2%|▏         | 3.67M/244M [00:02<02:19, 1.73MB/s]\n",
      "  2%|▏         | 4.19M/244M [00:02<02:12, 1.81MB/s]\n",
      "  2%|▏         | 4.72M/244M [00:03<02:12, 1.81MB/s]\n",
      "  2%|▏         | 5.24M/244M [00:03<02:12, 1.81MB/s]\n",
      "  2%|▏         | 5.77M/244M [00:03<02:11, 1.82MB/s]\n",
      "  3%|▎         | 6.29M/244M [00:03<02:05, 1.89MB/s]\n",
      "  3%|▎         | 6.82M/244M [00:04<02:07, 1.87MB/s]\n",
      "  3%|▎         | 7.34M/244M [00:04<02:07, 1.85MB/s]\n",
      "  3%|▎         | 7.86M/244M [00:04<02:03, 1.91MB/s]\n",
      "  3%|▎         | 8.39M/244M [00:04<02:05, 1.88MB/s]\n",
      "  4%|▎         | 8.91M/244M [00:05<02:06, 1.86MB/s]\n",
      "  4%|▍         | 9.44M/244M [00:05<02:05, 1.87MB/s]\n",
      "  4%|▍         | 9.96M/244M [00:05<02:07, 1.84MB/s]\n",
      "  4%|▍         | 10.5M/244M [00:06<02:18, 1.69MB/s]\n",
      "  5%|▍         | 11.0M/244M [00:06<02:06, 1.85MB/s]\n",
      "  5%|▍         | 11.5M/244M [00:06<02:01, 1.92MB/s]\n",
      "  5%|▍         | 12.1M/244M [00:06<02:01, 1.91MB/s]\n",
      "  5%|▌         | 12.6M/244M [00:07<02:02, 1.89MB/s]\n",
      "  5%|▌         | 13.1M/244M [00:07<01:59, 1.93MB/s]\n",
      "  6%|▌         | 13.6M/244M [00:07<02:01, 1.89MB/s]\n",
      "  6%|▌         | 14.2M/244M [00:08<02:03, 1.87MB/s]\n",
      "  6%|▌         | 14.7M/244M [00:08<02:05, 1.82MB/s]\n",
      "  6%|▌         | 15.2M/244M [00:08<02:01, 1.88MB/s]\n",
      "  6%|▋         | 15.7M/244M [00:08<02:10, 1.76MB/s]\n",
      "  7%|▋         | 16.3M/244M [00:09<02:23, 1.59MB/s]\n",
      "  7%|▋         | 16.8M/244M [00:09<02:17, 1.66MB/s]\n",
      "  7%|▋         | 17.3M/244M [00:09<02:20, 1.61MB/s]\n",
      "  7%|▋         | 17.8M/244M [00:10<02:14, 1.69MB/s]\n",
      "  8%|▊         | 18.4M/244M [00:10<02:12, 1.70MB/s]\n",
      "  8%|▊         | 18.9M/244M [00:10<02:05, 1.80MB/s]\n",
      "  8%|▊         | 19.4M/244M [00:11<02:06, 1.77MB/s]\n",
      "  8%|▊         | 19.9M/244M [00:11<02:04, 1.80MB/s]\n",
      "  8%|▊         | 20.4M/244M [00:11<02:10, 1.71MB/s]\n",
      "  9%|▊         | 21.0M/244M [00:12<02:28, 1.50MB/s]\n",
      "  9%|▉         | 21.5M/244M [00:12<02:21, 1.57MB/s]\n",
      "  9%|▉         | 22.0M/244M [00:12<02:08, 1.73MB/s]\n",
      "  9%|▉         | 22.5M/244M [00:12<01:57, 1.89MB/s]\n",
      "  9%|▉         | 23.1M/244M [00:13<01:47, 2.06MB/s]\n",
      " 10%|▉         | 23.6M/244M [00:13<01:52, 1.97MB/s]\n",
      " 10%|▉         | 24.1M/244M [00:13<01:54, 1.92MB/s]\n",
      " 10%|█         | 24.6M/244M [00:14<01:54, 1.92MB/s]\n",
      " 10%|█         | 25.2M/244M [00:14<01:55, 1.89MB/s]\n",
      " 11%|█         | 25.7M/244M [00:14<01:55, 1.89MB/s]\n",
      " 11%|█         | 26.2M/244M [00:14<01:56, 1.87MB/s]\n",
      " 11%|█         | 26.7M/244M [00:15<02:01, 1.79MB/s]\n",
      " 11%|█         | 27.3M/244M [00:15<02:10, 1.66MB/s]\n",
      " 11%|█▏        | 27.8M/244M [00:15<02:02, 1.77MB/s]\n",
      " 12%|█▏        | 28.3M/244M [00:16<01:56, 1.85MB/s]\n",
      " 12%|█▏        | 28.8M/244M [00:16<01:49, 1.97MB/s]\n",
      " 12%|█▏        | 29.4M/244M [00:16<01:50, 1.94MB/s]\n",
      " 12%|█▏        | 29.9M/244M [00:16<01:51, 1.92MB/s]\n",
      " 12%|█▏        | 30.4M/244M [00:17<01:51, 1.92MB/s]\n",
      " 13%|█▎        | 30.9M/244M [00:17<01:53, 1.87MB/s]\n",
      " 13%|█▎        | 31.5M/244M [00:17<01:51, 1.91MB/s]\n",
      " 13%|█▎        | 32.0M/244M [00:17<01:53, 1.87MB/s]\n",
      " 13%|█▎        | 32.5M/244M [00:18<01:53, 1.87MB/s]\n",
      " 14%|█▎        | 33.0M/244M [00:18<01:52, 1.88MB/s]\n",
      " 14%|█▎        | 33.6M/244M [00:18<01:51, 1.89MB/s]\n",
      " 14%|█▍        | 34.1M/244M [00:19<01:58, 1.77MB/s]\n",
      " 14%|█▍        | 34.6M/244M [00:19<01:52, 1.86MB/s]\n",
      " 14%|█▍        | 35.1M/244M [00:19<01:52, 1.86MB/s]\n",
      " 15%|█▍        | 35.7M/244M [00:19<01:52, 1.86MB/s]\n",
      " 15%|█▍        | 36.2M/244M [00:20<02:09, 1.60MB/s]\n",
      " 15%|█▌        | 36.7M/244M [00:20<02:10, 1.60MB/s]\n",
      " 15%|█▌        | 37.2M/244M [00:21<02:06, 1.64MB/s]\n",
      " 15%|█▌        | 37.7M/244M [00:21<01:57, 1.76MB/s]\n",
      " 16%|█▌        | 38.3M/244M [00:21<01:59, 1.72MB/s]\n",
      " 16%|█▌        | 38.8M/244M [00:21<01:57, 1.75MB/s]\n",
      " 16%|█▌        | 39.3M/244M [00:22<01:54, 1.79MB/s]\n",
      " 16%|█▋        | 39.8M/244M [00:22<01:50, 1.85MB/s]\n",
      " 17%|█▋        | 40.4M/244M [00:22<01:51, 1.83MB/s]\n",
      " 17%|█▋        | 40.9M/244M [00:22<01:49, 1.85MB/s]\n",
      " 17%|█▋        | 41.4M/244M [00:23<01:49, 1.85MB/s]\n",
      " 17%|█▋        | 41.9M/244M [00:23<01:48, 1.87MB/s]\n",
      " 17%|█▋        | 42.5M/244M [00:23<01:47, 1.87MB/s]\n",
      " 18%|█▊        | 43.0M/244M [00:24<01:47, 1.87MB/s]\n",
      " 18%|█▊        | 43.5M/244M [00:24<01:46, 1.89MB/s]\n",
      " 18%|█▊        | 44.0M/244M [00:24<01:45, 1.89MB/s]\n",
      " 18%|█▊        | 44.6M/244M [00:24<01:48, 1.84MB/s]\n",
      " 18%|█▊        | 45.1M/244M [00:25<01:46, 1.86MB/s]\n",
      " 19%|█▊        | 45.6M/244M [00:25<01:47, 1.84MB/s]\n",
      " 19%|█▉        | 46.1M/244M [00:25<01:44, 1.90MB/s]\n",
      " 19%|█▉        | 46.7M/244M [00:26<01:47, 1.83MB/s]\n",
      " 19%|█▉        | 47.2M/244M [00:26<01:48, 1.82MB/s]\n",
      " 20%|█▉        | 47.7M/244M [00:26<01:46, 1.84MB/s]\n",
      " 20%|█▉        | 48.2M/244M [00:26<01:44, 1.87MB/s]\n",
      " 20%|█▉        | 48.8M/244M [00:27<01:44, 1.86MB/s]\n",
      " 20%|██        | 49.3M/244M [00:27<01:45, 1.85MB/s]\n",
      " 20%|██        | 49.8M/244M [00:27<01:46, 1.83MB/s]\n",
      " 21%|██        | 50.3M/244M [00:28<01:41, 1.91MB/s]\n",
      " 21%|██        | 50.9M/244M [00:28<01:42, 1.89MB/s]\n",
      " 21%|██        | 51.4M/244M [00:28<01:46, 1.81MB/s]\n",
      " 21%|██        | 51.9M/244M [00:28<01:50, 1.74MB/s]\n",
      " 21%|██▏       | 52.4M/244M [00:29<01:53, 1.69MB/s]\n",
      " 22%|██▏       | 53.0M/244M [00:29<01:48, 1.76MB/s]\n",
      " 22%|██▏       | 53.5M/244M [00:29<01:48, 1.76MB/s]\n",
      " 22%|██▏       | 54.0M/244M [00:30<01:46, 1.78MB/s]\n",
      " 22%|██▏       | 54.5M/244M [00:30<01:43, 1.83MB/s]\n",
      " 23%|██▎       | 55.1M/244M [00:30<01:47, 1.77MB/s]\n",
      " 23%|██▎       | 55.6M/244M [00:30<01:41, 1.86MB/s]\n",
      " 23%|██▎       | 56.1M/244M [00:31<01:42, 1.83MB/s]\n",
      " 23%|██▎       | 56.6M/244M [00:31<01:41, 1.85MB/s]\n",
      " 23%|██▎       | 57.1M/244M [00:31<01:45, 1.77MB/s]\n",
      " 24%|██▎       | 57.7M/244M [00:32<01:43, 1.80MB/s]\n",
      " 24%|██▍       | 58.2M/244M [00:32<01:45, 1.77MB/s]\n",
      " 24%|██▍       | 58.7M/244M [00:32<01:37, 1.90MB/s]\n",
      " 24%|██▍       | 59.2M/244M [00:33<01:43, 1.78MB/s]\n",
      " 24%|██▍       | 59.8M/244M [00:33<01:34, 1.95MB/s]\n",
      " 25%|██▍       | 60.3M/244M [00:33<01:34, 1.95MB/s]\n",
      " 25%|██▍       | 60.8M/244M [00:33<01:36, 1.90MB/s]\n",
      " 25%|██▌       | 61.3M/244M [00:34<01:35, 1.92MB/s]\n",
      " 25%|██▌       | 61.9M/244M [00:34<01:34, 1.93MB/s]\n",
      " 26%|██▌       | 62.4M/244M [00:34<01:52, 1.62MB/s]\n",
      " 26%|██▌       | 62.9M/244M [00:35<01:45, 1.71MB/s]\n",
      " 26%|██▌       | 63.4M/244M [00:35<01:44, 1.73MB/s]\n",
      " 26%|██▌       | 64.0M/244M [00:35<01:43, 1.74MB/s]\n",
      " 26%|██▋       | 64.5M/244M [00:35<01:34, 1.90MB/s]\n",
      " 27%|██▋       | 65.0M/244M [00:36<01:36, 1.86MB/s]\n",
      " 27%|██▋       | 65.5M/244M [00:36<01:30, 1.99MB/s]\n",
      " 27%|██▋       | 66.1M/244M [00:36<01:24, 2.10MB/s]\n",
      " 27%|██▋       | 66.6M/244M [00:36<01:25, 2.08MB/s]\n",
      " 27%|██▋       | 67.1M/244M [00:37<01:33, 1.89MB/s]\n",
      " 28%|██▊       | 67.6M/244M [00:37<01:32, 1.91MB/s]\n",
      " 28%|██▊       | 68.2M/244M [00:37<01:35, 1.85MB/s]\n",
      " 28%|██▊       | 68.7M/244M [00:38<01:44, 1.68MB/s]\n",
      " 28%|██▊       | 69.2M/244M [00:38<01:35, 1.84MB/s]\n",
      " 29%|██▊       | 69.7M/244M [00:38<01:25, 2.03MB/s]\n",
      " 29%|██▉       | 70.3M/244M [00:38<01:27, 1.99MB/s]\n",
      " 29%|██▉       | 70.8M/244M [00:39<01:37, 1.77MB/s]\n",
      " 29%|██▉       | 71.3M/244M [00:39<01:31, 1.90MB/s]\n",
      " 29%|██▉       | 71.8M/244M [00:39<01:31, 1.89MB/s]\n",
      " 30%|██▉       | 72.4M/244M [00:40<01:37, 1.77MB/s]\n",
      " 30%|██▉       | 72.9M/244M [00:40<01:45, 1.63MB/s]\n",
      " 30%|███       | 73.4M/244M [00:40<01:42, 1.67MB/s]\n",
      " 30%|███       | 73.9M/244M [00:40<01:38, 1.73MB/s]\n",
      " 30%|███       | 74.4M/244M [00:41<01:35, 1.78MB/s]\n",
      " 31%|███       | 75.0M/244M [00:41<01:33, 1.81MB/s]\n",
      " 31%|███       | 75.5M/244M [00:41<01:32, 1.83MB/s]\n",
      " 31%|███       | 76.0M/244M [00:42<01:31, 1.85MB/s]\n",
      " 31%|███▏      | 76.5M/244M [00:42<01:30, 1.85MB/s]\n",
      " 32%|███▏      | 77.1M/244M [00:42<01:29, 1.86MB/s]\n",
      " 32%|███▏      | 77.6M/244M [00:42<01:31, 1.82MB/s]\n",
      " 32%|███▏      | 78.1M/244M [00:43<01:30, 1.83MB/s]\n",
      " 32%|███▏      | 78.6M/244M [00:43<01:29, 1.85MB/s]\n",
      " 32%|███▏      | 79.2M/244M [00:43<01:29, 1.85MB/s]\n",
      " 33%|███▎      | 79.7M/244M [00:44<01:27, 1.88MB/s]\n",
      " 33%|███▎      | 80.2M/244M [00:44<01:27, 1.88MB/s]\n",
      " 33%|███▎      | 80.7M/244M [00:44<01:30, 1.80MB/s]\n",
      " 33%|███▎      | 81.3M/244M [00:44<01:27, 1.87MB/s]\n",
      " 33%|███▎      | 81.8M/244M [00:45<01:26, 1.88MB/s]\n",
      " 34%|███▎      | 82.3M/244M [00:45<01:26, 1.86MB/s]\n",
      " 34%|███▍      | 82.8M/244M [00:45<01:27, 1.85MB/s]\n",
      " 34%|███▍      | 83.4M/244M [00:46<01:26, 1.85MB/s]\n",
      " 34%|███▍      | 83.9M/244M [00:46<01:25, 1.87MB/s]\n",
      " 35%|███▍      | 84.4M/244M [00:46<01:25, 1.87MB/s]\n",
      " 35%|███▍      | 84.9M/244M [00:46<01:25, 1.87MB/s]\n",
      " 35%|███▍      | 85.5M/244M [00:47<01:24, 1.87MB/s]\n",
      " 35%|███▌      | 86.0M/244M [00:47<01:24, 1.87MB/s]\n",
      " 35%|███▌      | 86.5M/244M [00:47<01:29, 1.77MB/s]\n",
      " 36%|███▌      | 87.0M/244M [00:48<01:40, 1.57MB/s]\n",
      " 36%|███▌      | 87.6M/244M [00:48<01:57, 1.34MB/s]\n",
      " 36%|███▌      | 88.1M/244M [00:49<01:52, 1.39MB/s]\n",
      " 36%|███▋      | 88.6M/244M [00:49<01:43, 1.50MB/s]\n",
      " 36%|███▋      | 89.1M/244M [00:50<02:10, 1.19MB/s]\n",
      " 37%|███▋      | 89.7M/244M [00:50<02:57, 872kB/s] \n",
      " 37%|███▋      | 90.2M/244M [00:51<02:23, 1.07MB/s]\n",
      " 37%|███▋      | 90.7M/244M [00:51<01:54, 1.34MB/s]\n",
      " 37%|███▋      | 91.2M/244M [00:51<01:45, 1.45MB/s]\n",
      " 38%|███▊      | 91.8M/244M [00:52<02:02, 1.25MB/s]\n",
      " 38%|███▊      | 92.3M/244M [00:52<01:54, 1.33MB/s]\n",
      " 38%|███▊      | 92.8M/244M [00:52<01:51, 1.35MB/s]\n",
      " 38%|███▊      | 93.3M/244M [00:53<01:57, 1.28MB/s]\n",
      " 38%|███▊      | 93.8M/244M [00:53<01:53, 1.32MB/s]\n",
      " 39%|███▊      | 94.4M/244M [00:54<01:45, 1.42MB/s]\n",
      " 39%|███▉      | 94.9M/244M [00:54<01:30, 1.64MB/s]\n",
      " 39%|███▉      | 95.4M/244M [00:54<01:44, 1.43MB/s]\n",
      " 39%|███▉      | 95.9M/244M [00:55<01:36, 1.53MB/s]\n",
      " 39%|███▉      | 96.5M/244M [00:55<01:28, 1.67MB/s]\n",
      " 40%|███▉      | 97.0M/244M [00:55<01:18, 1.89MB/s]\n",
      " 40%|███▉      | 97.5M/244M [00:55<01:11, 2.06MB/s]\n",
      " 40%|████      | 98.0M/244M [00:55<01:12, 2.01MB/s]\n",
      " 40%|████      | 98.6M/244M [00:56<01:13, 1.97MB/s]\n",
      " 41%|████      | 99.1M/244M [00:56<01:14, 1.95MB/s]\n",
      " 41%|████      | 99.6M/244M [00:56<01:15, 1.91MB/s]\n",
      " 41%|████      | 100M/244M [00:57<01:38, 1.46MB/s] \n",
      " 41%|████      | 101M/244M [00:57<01:31, 1.57MB/s]\n",
      " 41%|████▏     | 101M/244M [00:57<01:19, 1.79MB/s]\n",
      " 42%|████▏     | 102M/244M [00:58<01:25, 1.66MB/s]\n",
      " 42%|████▏     | 102M/244M [00:58<01:19, 1.78MB/s]\n",
      " 42%|████▏     | 103M/244M [00:58<01:15, 1.87MB/s]\n",
      " 42%|████▏     | 103M/244M [00:58<01:12, 1.94MB/s]\n",
      " 42%|████▏     | 104M/244M [00:59<01:13, 1.91MB/s]\n",
      " 43%|████▎     | 104M/244M [00:59<01:13, 1.89MB/s]\n",
      " 43%|████▎     | 105M/244M [00:59<01:13, 1.89MB/s]\n",
      " 43%|████▎     | 105M/244M [01:00<01:15, 1.85MB/s]\n",
      " 43%|████▎     | 106M/244M [01:00<01:16, 1.80MB/s]\n",
      " 44%|████▎     | 106M/244M [01:00<01:15, 1.82MB/s]\n",
      " 44%|████▍     | 107M/244M [01:00<01:13, 1.86MB/s]\n",
      " 44%|████▍     | 107M/244M [01:01<01:14, 1.84MB/s]\n",
      " 44%|████▍     | 108M/244M [01:01<01:13, 1.84MB/s]\n",
      " 44%|████▍     | 109M/244M [01:01<01:13, 1.84MB/s]\n",
      " 45%|████▍     | 109M/244M [01:02<01:13, 1.84MB/s]\n",
      " 45%|████▍     | 110M/244M [01:02<01:16, 1.75MB/s]\n",
      " 45%|████▌     | 110M/244M [01:02<01:16, 1.76MB/s]\n",
      " 45%|████▌     | 111M/244M [01:02<01:13, 1.83MB/s]\n",
      " 46%|████▌     | 111M/244M [01:03<01:14, 1.78MB/s]\n",
      " 46%|████▌     | 112M/244M [01:03<01:14, 1.79MB/s]\n",
      " 46%|████▌     | 112M/244M [01:03<01:07, 1.95MB/s]\n",
      " 46%|████▌     | 113M/244M [01:04<01:08, 1.93MB/s]\n",
      " 46%|████▋     | 113M/244M [01:04<01:09, 1.88MB/s]\n",
      " 47%|████▋     | 114M/244M [01:04<01:15, 1.72MB/s]\n",
      " 47%|████▋     | 114M/244M [01:05<01:24, 1.53MB/s]\n",
      " 47%|████▋     | 115M/244M [01:05<01:21, 1.59MB/s]\n",
      " 47%|████▋     | 115M/244M [01:05<01:17, 1.66MB/s]\n",
      " 47%|████▋     | 116M/244M [01:06<01:15, 1.71MB/s]\n",
      " 48%|████▊     | 116M/244M [01:06<01:12, 1.76MB/s]\n",
      " 48%|████▊     | 117M/244M [01:06<01:10, 1.80MB/s]\n",
      " 48%|████▊     | 117M/244M [01:06<01:08, 1.84MB/s]\n",
      " 48%|████▊     | 118M/244M [01:07<01:09, 1.81MB/s]\n",
      " 49%|████▊     | 118M/244M [01:07<01:08, 1.85MB/s]\n",
      " 49%|████▊     | 119M/244M [01:07<01:07, 1.86MB/s]\n",
      " 49%|████▉     | 120M/244M [01:07<01:07, 1.85MB/s]\n",
      " 49%|████▉     | 120M/244M [01:08<01:09, 1.78MB/s]\n",
      " 49%|████▉     | 121M/244M [01:08<01:10, 1.76MB/s]\n",
      " 50%|████▉     | 121M/244M [01:08<01:05, 1.88MB/s]\n",
      " 50%|████▉     | 122M/244M [01:09<01:05, 1.88MB/s]\n",
      " 50%|█████     | 122M/244M [01:09<01:05, 1.86MB/s]\n",
      " 50%|█████     | 123M/244M [01:09<01:05, 1.84MB/s]\n",
      " 50%|█████     | 123M/244M [01:09<01:03, 1.91MB/s]\n",
      " 51%|█████     | 124M/244M [01:10<01:03, 1.91MB/s]\n",
      " 51%|█████     | 124M/244M [01:10<01:02, 1.91MB/s]\n",
      " 51%|█████     | 125M/244M [01:10<01:03, 1.88MB/s]\n",
      " 51%|█████▏    | 125M/244M [01:11<01:02, 1.90MB/s]\n",
      " 52%|█████▏    | 126M/244M [01:11<01:02, 1.89MB/s]\n",
      " 52%|█████▏    | 126M/244M [01:11<01:02, 1.88MB/s]\n",
      " 52%|█████▏    | 127M/244M [01:11<01:05, 1.78MB/s]\n",
      " 52%|█████▏    | 127M/244M [01:12<01:05, 1.77MB/s]\n",
      " 52%|█████▏    | 128M/244M [01:12<01:00, 1.93MB/s]\n",
      " 53%|█████▎    | 128M/244M [01:12<01:00, 1.92MB/s]\n",
      " 53%|█████▎    | 129M/244M [01:13<01:00, 1.91MB/s]\n",
      " 53%|█████▎    | 129M/244M [01:13<01:01, 1.87MB/s]\n",
      " 53%|█████▎    | 130M/244M [01:13<01:00, 1.89MB/s]\n",
      " 53%|█████▎    | 131M/244M [01:13<01:02, 1.82MB/s]\n",
      " 54%|█████▎    | 131M/244M [01:14<00:59, 1.91MB/s]\n",
      " 54%|█████▍    | 132M/244M [01:14<01:03, 1.77MB/s]\n",
      " 54%|█████▍    | 132M/244M [01:14<01:08, 1.64MB/s]\n",
      " 54%|█████▍    | 133M/244M [01:15<01:06, 1.68MB/s]\n",
      " 55%|█████▍    | 133M/244M [01:15<01:03, 1.75MB/s]\n",
      " 55%|█████▍    | 134M/244M [01:15<01:02, 1.78MB/s]\n",
      " 55%|█████▍    | 134M/244M [01:15<01:00, 1.82MB/s]\n",
      " 55%|█████▌    | 135M/244M [01:16<01:00, 1.81MB/s]\n",
      " 55%|█████▌    | 135M/244M [01:16<00:59, 1.85MB/s]\n",
      " 56%|█████▌    | 136M/244M [01:16<01:01, 1.77MB/s]\n",
      " 56%|█████▌    | 136M/244M [01:17<01:00, 1.79MB/s]\n",
      " 56%|█████▌    | 137M/244M [01:17<00:58, 1.85MB/s]\n",
      " 56%|█████▌    | 137M/244M [01:17<00:56, 1.90MB/s]\n",
      " 56%|█████▋    | 138M/244M [01:17<00:57, 1.87MB/s]\n",
      " 57%|█████▋    | 138M/244M [01:18<00:56, 1.88MB/s]\n",
      " 57%|█████▋    | 139M/244M [01:18<00:56, 1.86MB/s]\n",
      " 57%|█████▋    | 139M/244M [01:18<00:56, 1.85MB/s]\n",
      " 57%|█████▋    | 140M/244M [01:19<00:55, 1.89MB/s]\n",
      " 58%|█████▊    | 141M/244M [01:19<00:54, 1.90MB/s]\n",
      " 58%|█████▊    | 141M/244M [01:19<00:55, 1.86MB/s]\n",
      " 58%|█████▊    | 142M/244M [01:19<00:55, 1.85MB/s]\n",
      " 58%|█████▊    | 142M/244M [01:20<00:55, 1.83MB/s]\n",
      " 58%|█████▊    | 143M/244M [01:20<00:58, 1.75MB/s]\n",
      " 59%|█████▊    | 143M/244M [01:20<00:58, 1.74MB/s]\n",
      " 59%|█████▉    | 144M/244M [01:21<00:59, 1.70MB/s]\n",
      " 59%|█████▉    | 144M/244M [01:21<00:55, 1.80MB/s]\n",
      " 59%|█████▉    | 145M/244M [01:21<00:55, 1.80MB/s]\n",
      " 59%|█████▉    | 145M/244M [01:22<00:53, 1.84MB/s]\n",
      " 60%|█████▉    | 146M/244M [01:22<00:53, 1.86MB/s]\n",
      " 60%|█████▉    | 146M/244M [01:22<00:52, 1.87MB/s]\n",
      " 60%|██████    | 147M/244M [01:22<00:51, 1.89MB/s]\n",
      " 60%|██████    | 147M/244M [01:23<00:54, 1.79MB/s]\n",
      " 61%|██████    | 148M/244M [01:23<00:50, 1.91MB/s]\n",
      " 61%|██████    | 148M/244M [01:23<00:51, 1.85MB/s]\n",
      " 61%|██████    | 149M/244M [01:24<00:56, 1.68MB/s]\n",
      " 61%|██████    | 149M/244M [01:24<00:55, 1.71MB/s]\n",
      " 61%|██████▏   | 150M/244M [01:24<00:49, 1.90MB/s]\n",
      " 62%|██████▏   | 150M/244M [01:24<00:48, 1.92MB/s]\n",
      " 62%|██████▏   | 151M/244M [01:25<00:55, 1.68MB/s]\n",
      " 62%|██████▏   | 152M/244M [01:25<00:51, 1.81MB/s]\n",
      " 62%|██████▏   | 152M/244M [01:25<00:46, 1.99MB/s]\n",
      " 62%|██████▏   | 153M/244M [01:25<00:46, 1.96MB/s]\n",
      " 63%|██████▎   | 153M/244M [01:26<00:53, 1.69MB/s]\n",
      " 63%|██████▎   | 154M/244M [01:26<00:52, 1.73MB/s]\n",
      " 63%|██████▎   | 154M/244M [01:26<00:50, 1.77MB/s]\n",
      " 63%|██████▎   | 155M/244M [01:27<00:50, 1.77MB/s]\n",
      " 64%|██████▎   | 155M/244M [01:27<00:48, 1.84MB/s]\n",
      " 64%|██████▎   | 156M/244M [01:27<00:48, 1.82MB/s]\n",
      " 64%|██████▍   | 156M/244M [01:28<00:48, 1.83MB/s]\n",
      " 64%|██████▍   | 157M/244M [01:28<00:47, 1.85MB/s]\n",
      " 64%|██████▍   | 157M/244M [01:28<00:49, 1.76MB/s]\n",
      " 65%|██████▍   | 158M/244M [01:28<00:44, 1.94MB/s]\n",
      " 65%|██████▍   | 158M/244M [01:29<00:44, 1.93MB/s]\n",
      " 65%|██████▌   | 159M/244M [01:29<00:46, 1.85MB/s]\n",
      " 65%|██████▌   | 159M/244M [01:29<00:44, 1.91MB/s]\n",
      " 65%|██████▌   | 160M/244M [01:30<00:44, 1.88MB/s]\n",
      " 66%|██████▌   | 160M/244M [01:30<00:44, 1.88MB/s]\n",
      " 66%|██████▌   | 161M/244M [01:30<00:44, 1.87MB/s]\n",
      " 66%|██████▌   | 161M/244M [01:30<00:44, 1.85MB/s]\n",
      " 66%|██████▋   | 162M/244M [01:31<00:43, 1.88MB/s]\n",
      " 67%|██████▋   | 163M/244M [01:31<00:43, 1.87MB/s]\n",
      " 67%|██████▋   | 163M/244M [01:31<00:43, 1.88MB/s]\n",
      " 67%|██████▋   | 164M/244M [01:31<00:42, 1.91MB/s]\n",
      " 67%|██████▋   | 164M/244M [01:32<00:44, 1.79MB/s]\n",
      " 67%|██████▋   | 165M/244M [01:32<00:47, 1.66MB/s]\n",
      " 68%|██████▊   | 165M/244M [01:32<00:48, 1.64MB/s]\n",
      " 68%|██████▊   | 166M/244M [01:33<00:45, 1.72MB/s]\n",
      " 68%|██████▊   | 166M/244M [01:33<00:45, 1.73MB/s]\n",
      " 68%|██████▊   | 167M/244M [01:33<00:43, 1.76MB/s]\n",
      " 68%|██████▊   | 167M/244M [01:34<00:42, 1.81MB/s]\n",
      " 69%|██████▊   | 168M/244M [01:34<00:42, 1.80MB/s]\n",
      " 69%|██████▉   | 168M/244M [01:34<00:42, 1.77MB/s]\n",
      " 69%|██████▉   | 169M/244M [01:34<00:40, 1.84MB/s]\n",
      " 69%|██████▉   | 169M/244M [01:35<00:46, 1.59MB/s]\n",
      " 70%|██████▉   | 170M/244M [01:35<00:44, 1.67MB/s]\n",
      " 70%|██████▉   | 170M/244M [01:35<00:42, 1.73MB/s]\n",
      " 70%|██████▉   | 171M/244M [01:36<00:45, 1.61MB/s]\n",
      " 70%|███████   | 171M/244M [01:36<00:43, 1.68MB/s]\n",
      " 70%|███████   | 172M/244M [01:36<00:40, 1.77MB/s]\n",
      " 71%|███████   | 172M/244M [01:37<00:40, 1.77MB/s]\n",
      " 71%|███████   | 173M/244M [01:37<00:41, 1.70MB/s]\n",
      " 71%|███████   | 174M/244M [01:37<00:40, 1.73MB/s]\n",
      " 71%|███████▏  | 174M/244M [01:38<00:38, 1.81MB/s]\n",
      " 71%|███████▏  | 175M/244M [01:38<00:40, 1.71MB/s]\n",
      " 72%|███████▏  | 175M/244M [01:38<00:46, 1.49MB/s]\n",
      " 72%|███████▏  | 176M/244M [01:39<00:43, 1.57MB/s]\n",
      " 72%|███████▏  | 176M/244M [01:39<00:43, 1.56MB/s]\n",
      " 72%|███████▏  | 177M/244M [01:39<00:43, 1.57MB/s]\n",
      " 73%|███████▎  | 177M/244M [01:40<00:45, 1.47MB/s]\n",
      " 73%|███████▎  | 178M/244M [01:40<00:40, 1.63MB/s]\n",
      " 73%|███████▎  | 178M/244M [01:40<00:36, 1.81MB/s]\n",
      " 73%|███████▎  | 179M/244M [01:40<00:34, 1.89MB/s]\n",
      " 73%|███████▎  | 179M/244M [01:41<00:33, 1.96MB/s]\n",
      " 74%|███████▎  | 180M/244M [01:41<00:34, 1.86MB/s]\n",
      " 74%|███████▍  | 180M/244M [01:41<00:33, 1.93MB/s]\n",
      " 74%|███████▍  | 181M/244M [01:42<00:35, 1.78MB/s]\n",
      " 74%|███████▍  | 181M/244M [01:42<00:39, 1.61MB/s]\n",
      " 74%|███████▍  | 182M/244M [01:42<00:37, 1.68MB/s]\n",
      " 75%|███████▍  | 182M/244M [01:43<00:37, 1.64MB/s]\n",
      " 75%|███████▍  | 183M/244M [01:43<00:34, 1.77MB/s]\n",
      " 75%|███████▌  | 184M/244M [01:43<00:34, 1.75MB/s]\n",
      " 75%|███████▌  | 184M/244M [01:43<00:33, 1.82MB/s]\n",
      " 76%|███████▌  | 185M/244M [01:44<00:32, 1.83MB/s]\n",
      " 76%|███████▌  | 185M/244M [01:44<00:34, 1.70MB/s]\n",
      " 76%|███████▌  | 186M/244M [01:45<00:40, 1.46MB/s]\n",
      " 76%|███████▌  | 186M/244M [01:45<00:42, 1.38MB/s]\n",
      " 76%|███████▋  | 187M/244M [01:45<00:42, 1.37MB/s]\n",
      " 77%|███████▋  | 187M/244M [01:46<00:44, 1.29MB/s]\n",
      " 77%|███████▋  | 188M/244M [01:46<00:39, 1.43MB/s]\n",
      " 77%|███████▋  | 188M/244M [01:47<00:41, 1.36MB/s]\n",
      " 77%|███████▋  | 189M/244M [01:47<00:47, 1.16MB/s]\n",
      " 77%|███████▋  | 189M/244M [01:48<00:51, 1.06MB/s]\n",
      " 78%|███████▊  | 190M/244M [01:48<00:52, 1.04MB/s]\n",
      " 78%|███████▊  | 190M/244M [01:49<00:46, 1.16MB/s]\n",
      " 78%|███████▊  | 191M/244M [01:49<00:41, 1.29MB/s]\n",
      " 78%|███████▊  | 191M/244M [01:49<00:37, 1.43MB/s]\n",
      " 79%|███████▊  | 192M/244M [01:50<00:35, 1.47MB/s]\n",
      " 79%|███████▉  | 192M/244M [01:50<00:33, 1.55MB/s]\n",
      " 79%|███████▉  | 193M/244M [01:50<00:32, 1.56MB/s]\n",
      " 79%|███████▉  | 193M/244M [01:50<00:30, 1.65MB/s]\n",
      " 79%|███████▉  | 194M/244M [01:51<00:30, 1.66MB/s]\n",
      " 80%|███████▉  | 195M/244M [01:51<00:29, 1.70MB/s]\n",
      " 80%|███████▉  | 195M/244M [01:51<00:27, 1.80MB/s]\n",
      " 80%|████████  | 196M/244M [01:52<00:27, 1.80MB/s]\n",
      " 80%|████████  | 196M/244M [01:52<00:26, 1.84MB/s]\n",
      " 80%|████████  | 197M/244M [01:52<00:26, 1.81MB/s]\n",
      " 81%|████████  | 197M/244M [01:52<00:27, 1.73MB/s]\n",
      " 81%|████████  | 198M/244M [01:53<00:26, 1.76MB/s]\n",
      " 81%|████████  | 198M/244M [01:53<00:22, 2.03MB/s]\n",
      " 81%|████████▏ | 199M/244M [01:53<00:20, 2.18MB/s]\n",
      " 82%|████████▏ | 199M/244M [01:53<00:23, 1.91MB/s]\n",
      " 82%|████████▏ | 200M/244M [01:54<00:21, 2.05MB/s]\n",
      " 82%|████████▏ | 200M/244M [01:54<00:22, 1.92MB/s]\n",
      " 82%|████████▏ | 201M/244M [01:54<00:22, 1.92MB/s]\n",
      " 82%|████████▏ | 201M/244M [01:55<00:26, 1.63MB/s]\n",
      " 83%|████████▎ | 202M/244M [01:55<00:23, 1.84MB/s]\n",
      " 83%|████████▎ | 202M/244M [01:55<00:20, 2.02MB/s]\n",
      " 83%|████████▎ | 203M/244M [01:55<00:21, 1.95MB/s]\n",
      " 83%|████████▎ | 203M/244M [01:56<00:21, 1.94MB/s]\n",
      " 83%|████████▎ | 204M/244M [01:56<00:21, 1.90MB/s]\n",
      " 84%|████████▎ | 204M/244M [01:56<00:21, 1.86MB/s]\n",
      " 84%|████████▍ | 205M/244M [01:57<00:21, 1.82MB/s]\n",
      " 84%|████████▍ | 206M/244M [01:57<00:20, 1.87MB/s]\n",
      " 84%|████████▍ | 206M/244M [01:57<00:21, 1.79MB/s]\n",
      " 85%|████████▍ | 207M/244M [01:57<00:19, 1.90MB/s]\n",
      " 85%|████████▍ | 207M/244M [01:58<00:19, 1.90MB/s]\n",
      " 85%|████████▍ | 208M/244M [01:58<00:19, 1.89MB/s]\n",
      " 85%|████████▌ | 208M/244M [01:58<00:19, 1.86MB/s]\n",
      " 85%|████████▌ | 209M/244M [01:59<00:19, 1.86MB/s]\n",
      " 86%|████████▌ | 209M/244M [01:59<00:19, 1.80MB/s]\n",
      " 86%|████████▌ | 210M/244M [01:59<00:20, 1.72MB/s]\n",
      " 86%|████████▌ | 210M/244M [02:00<00:21, 1.61MB/s]\n",
      " 86%|████████▋ | 211M/244M [02:00<00:20, 1.65MB/s]\n",
      " 86%|████████▋ | 211M/244M [02:00<00:21, 1.57MB/s]\n",
      " 87%|████████▋ | 212M/244M [02:00<00:19, 1.64MB/s]\n",
      " 87%|████████▋ | 212M/244M [02:01<00:18, 1.72MB/s]\n",
      " 87%|████████▋ | 213M/244M [02:01<00:18, 1.74MB/s]\n",
      " 87%|████████▋ | 213M/244M [02:02<00:20, 1.49MB/s]\n",
      " 88%|████████▊ | 214M/244M [02:02<00:19, 1.55MB/s]\n",
      " 88%|████████▊ | 214M/244M [02:02<00:17, 1.72MB/s]\n",
      " 88%|████████▊ | 215M/244M [02:02<00:16, 1.78MB/s]\n",
      " 88%|████████▊ | 215M/244M [02:03<00:14, 1.97MB/s]\n",
      " 88%|████████▊ | 216M/244M [02:03<00:14, 2.01MB/s]\n",
      " 89%|████████▊ | 217M/244M [02:03<00:13, 2.03MB/s]\n",
      " 89%|████████▉ | 217M/244M [02:03<00:13, 1.99MB/s]\n",
      " 89%|████████▉ | 218M/244M [02:04<00:13, 1.96MB/s]\n",
      " 89%|████████▉ | 218M/244M [02:04<00:13, 1.93MB/s]\n",
      " 90%|████████▉ | 219M/244M [02:04<00:13, 1.85MB/s]\n",
      " 90%|████████▉ | 219M/244M [02:04<00:13, 1.93MB/s]\n",
      " 90%|████████▉ | 220M/244M [02:05<00:12, 1.92MB/s]\n",
      " 90%|█████████ | 220M/244M [02:05<00:12, 1.89MB/s]\n",
      " 90%|█████████ | 221M/244M [02:05<00:15, 1.53MB/s]\n",
      " 91%|█████████ | 221M/244M [02:06<00:13, 1.64MB/s]\n",
      " 91%|█████████ | 222M/244M [02:06<00:13, 1.71MB/s]\n",
      " 91%|█████████ | 222M/244M [02:06<00:12, 1.75MB/s]\n",
      " 91%|█████████ | 223M/244M [02:07<00:12, 1.75MB/s]\n",
      " 91%|█████████▏| 223M/244M [02:07<00:11, 1.79MB/s]\n",
      " 92%|█████████▏| 224M/244M [02:07<00:11, 1.77MB/s]\n",
      " 92%|█████████▏| 224M/244M [02:07<00:11, 1.78MB/s]\n",
      " 92%|█████████▏| 225M/244M [02:08<00:12, 1.57MB/s]\n",
      " 92%|█████████▏| 225M/244M [02:08<00:11, 1.58MB/s]\n",
      " 93%|█████████▎| 226M/244M [02:08<00:10, 1.68MB/s]\n",
      " 93%|█████████▎| 226M/244M [02:09<00:11, 1.61MB/s]\n",
      " 93%|█████████▎| 227M/244M [02:09<00:10, 1.61MB/s]\n",
      " 93%|█████████▎| 228M/244M [02:10<00:12, 1.34MB/s]\n",
      " 93%|█████████▎| 228M/244M [02:10<00:10, 1.52MB/s]\n",
      " 94%|█████████▎| 229M/244M [02:10<00:10, 1.54MB/s]\n",
      " 94%|█████████▍| 229M/244M [02:11<00:09, 1.60MB/s]\n",
      " 94%|█████████▍| 230M/244M [02:11<00:08, 1.67MB/s]\n",
      " 94%|█████████▍| 230M/244M [02:11<00:07, 1.77MB/s]\n",
      " 94%|█████████▍| 231M/244M [02:11<00:07, 1.86MB/s]\n",
      " 95%|█████████▍| 231M/244M [02:12<00:07, 1.84MB/s]\n",
      " 95%|█████████▍| 232M/244M [02:12<00:06, 1.81MB/s]\n",
      " 95%|█████████▌| 232M/244M [02:12<00:06, 1.77MB/s]\n",
      " 95%|█████████▌| 233M/244M [02:13<00:07, 1.44MB/s]\n",
      " 96%|█████████▌| 233M/244M [02:13<00:06, 1.73MB/s]\n",
      " 96%|█████████▌| 234M/244M [02:13<00:06, 1.71MB/s]\n",
      " 96%|█████████▌| 234M/244M [02:13<00:05, 1.85MB/s]\n",
      " 96%|█████████▌| 235M/244M [02:14<00:04, 1.89MB/s]\n",
      " 96%|█████████▋| 235M/244M [02:14<00:04, 1.93MB/s]\n",
      " 97%|█████████▋| 236M/244M [02:14<00:04, 1.89MB/s]\n",
      " 97%|█████████▋| 236M/244M [02:15<00:04, 1.82MB/s]\n",
      " 97%|█████████▋| 237M/244M [02:15<00:03, 1.90MB/s]\n",
      " 97%|█████████▋| 238M/244M [02:15<00:03, 1.91MB/s]\n",
      " 97%|█████████▋| 238M/244M [02:15<00:03, 1.92MB/s]\n",
      " 98%|█████████▊| 239M/244M [02:16<00:03, 1.75MB/s]\n",
      " 98%|█████████▊| 239M/244M [02:16<00:02, 1.83MB/s]\n",
      " 98%|█████████▊| 240M/244M [02:16<00:02, 1.93MB/s]\n",
      " 98%|█████████▊| 240M/244M [02:17<00:02, 1.62MB/s]\n",
      " 99%|█████████▊| 241M/244M [02:17<00:02, 1.78MB/s]\n",
      " 99%|█████████▊| 241M/244M [02:17<00:01, 1.85MB/s]\n",
      " 99%|█████████▉| 242M/244M [02:18<00:01, 1.38MB/s]\n",
      " 99%|█████████▉| 242M/244M [02:19<00:02, 962kB/s] \n",
      " 99%|█████████▉| 243M/244M [02:19<00:01, 1.08MB/s]\n",
      "100%|█████████▉| 243M/244M [02:19<00:00, 1.19MB/s]\n",
      "100%|█████████▉| 244M/244M [02:20<00:00, 1.33MB/s]\n",
      "100%|██████████| 244M/244M [02:20<00:00, 1.45MB/s]\n",
      "100%|██████████| 244M/244M [02:20<00:00, 1.74MB/s]\n",
      "'unzip' is not recognized as an internal or external command,\n",
      "operable program or batch file.\n"
     ]
    }
   ],
   "source": [
    "# #https://drive.google.com/file/d/1HwMV-Lt_sWoxc5v6igmTxTwomS3DR6cQ/view?usp=sharing\n",
    "# !pip install gdown\n",
    "# !gdown --id 1HwMV-Lt_sWoxc5v6igmTxTwomS3DR6cQ\n",
    "# !unzip Traffic_Signs.zip"
   ]
  },
  {
   "cell_type": "markdown",
   "id": "9bb9f30e",
   "metadata": {},
   "source": [
    "## Import Libraries"
   ]
  },
  {
   "cell_type": "code",
   "execution_count": 5,
   "id": "22207f85",
   "metadata": {},
   "outputs": [],
   "source": [
    "import os\n",
    "import cv2\n",
    "import matplotlib.pyplot as plt\n",
    "import numpy as np\n",
    "import tensorflow as tf\n",
    "import keras\n",
    "from keras import layers, models,regularizers\n",
    "from tensorflow.keras.callbacks import EarlyStopping\n",
    "from sklearn.model_selection import train_test_split"
   ]
  },
  {
   "cell_type": "markdown",
   "id": "3aa9945d",
   "metadata": {},
   "source": [
    "## Data Preprocessing\n",
    "In this section, preprocess the dataset by:\n",
    "- Loading the images from the file paths.\n",
    "- Resizing the images to a consistent size.\n",
    "- Normalizing pixel values.\n",
    "\n",
    "Add more if needed!"
   ]
  },
  {
   "cell_type": "code",
   "execution_count": 35,
   "id": "72042d3e",
   "metadata": {},
   "outputs": [],
   "source": [
    "import glob\n",
    "\n",
    "traffic_images_paths = glob.glob(r'D:\\Tuwaiq Academy\\Tuwaiq_Academy_T5_Week_5\\Weekly_Project\\Dataset\\Traffic_Signs\\Traffic_Signs\\Dataset\\*')\n",
    "\n",
    "traffic_images_paths = [path for path in traffic_images_paths if os.path.isdir(path)]"
   ]
  },
  {
   "cell_type": "markdown",
   "id": "d7da083a",
   "metadata": {},
   "source": [
    "### check for file readabilty"
   ]
  },
  {
   "cell_type": "code",
   "execution_count": 36,
   "id": "34862c2c",
   "metadata": {},
   "outputs": [
    {
     "data": {
      "image/png": "[encoded data removed]",
      "text/plain": [
       "<Figure size 640x480 with 1 Axes>"
      ]
     },
     "metadata": {},
     "output_type": "display_data"
    }
   ],
   "source": [
    "test_img_path = os.path.join(traffic_images_path, '1\\\\00001_00000_00003.png')\n",
    "img = cv2.imread(test_img_path)\n",
    "if img is not None:\n",
    "    plt.imshow(cv2.cvtColor(img, cv2.COLOR_BGR2RGB))\n",
    "    plt.title('Test Image')\n",
    "    plt.show()\n",
    "else:\n",
    "    print(f\"Failed to read image at {test_img_path}\")"
   ]
  },
  {
   "cell_type": "code",
   "execution_count": 37,
   "id": "00fe0802",
   "metadata": {},
   "outputs": [],
   "source": [
    " # Fixed scale size \n",
    "fixed_size = (64, 64)\n",
    "\n",
    "# Function to load and resize images from a directory\n",
    "def load_and_resize_images(folder_path, size):\n",
    "    images = []\n",
    "    for filename in os.listdir(folder_path):\n",
    "        img_path = os.path.join(folder_path, filename)\n",
    "        img = cv2.imread(img_path)\n",
    "        if img is not None:\n",
    "            img = cv2.resize(img, size)  # Resize image to fixed size\n",
    "            img = cv2.cvtColor(img, cv2.COLOR_BGR2RGB)  # Convert from BGR to RGB\n",
    "            images.append(img)\n",
    "    return images"
   ]
  },
  {
   "cell_type": "code",
   "execution_count": 39,
   "id": "900d7416",
   "metadata": {},
   "outputs": [
    {
     "name": "stdout",
     "output_type": "stream",
     "text": [
      "Loaded and resized 39209 traffic images to (64, 64).\n"
     ]
    }
   ],
   "source": [
    "traffic_images = []\n",
    "\n",
    "for folder in traffic_images_paths:\n",
    "    images = load_and_resize_images(folder, fixed_size)\n",
    "    traffic_images.extend(images)\n",
    "\n",
    "\n",
    "print(f\"Loaded and resized {len(traffic_images)} traffic images to {fixed_size}.\")"
   ]
  },
  {
   "cell_type": "code",
   "execution_count": 40,
   "id": "3267f6cf",
   "metadata": {},
   "outputs": [],
   "source": [
    "def display_images(images, num_to_display=5):\n",
    "    plt.figure(figsize=(15, 10))\n",
    "    for i in range(min(num_to_display, len(images))):\n",
    "        plt.subplot(1, num_to_display, i+1)\n",
    "        plt.imshow(images[i])\n",
    "        plt.axis('off')\n",
    "    plt.show()"
   ]
  },
  {
   "cell_type": "code",
   "execution_count": 41,
   "id": "15ad1a12",
   "metadata": {},
   "outputs": [
    {
     "name": "stdout",
     "output_type": "stream",
     "text": [
      "Displaying resized traffic images...\n"
     ]
    },
    {
     "data": {
      "image/png": "[encoded data removed]",
      "text/plain": [
       "<Figure size 1500x1000 with 5 Axes>"
      ]
     },
     "metadata": {},
     "output_type": "display_data"
    }
   ],
   "source": [
    "print(\"Displaying resized traffic images...\")\n",
    "display_images(traffic_images)"
   ]
  },
  {
   "cell_type": "code",
   "execution_count": 42,
   "id": "042e498b",
   "metadata": {},
   "outputs": [
    {
     "name": "stdout",
     "output_type": "stream",
     "text": [
      "Labeled 39209 images.\n"
     ]
    }
   ],
   "source": [
    "traffic_labels = []\n",
    "\n",
    "for folder in traffic_images_paths:\n",
    "    label = int(os.path.basename(folder))\n",
    "    \n",
    "    num_images = len(os.listdir(folder))\n",
    "    \n",
    "    labels = [label] * num_images\n",
    "    \n",
    "    traffic_labels.extend(labels)\n",
    "\n",
    "print(f\"Labeled {len(traffic_labels)} images.\")\n"
   ]
  },
  {
   "cell_type": "markdown",
   "id": "541f3c2b",
   "metadata": {},
   "source": [
    "## Data Splitting\n",
    "In this section, we will split our dataset into three parts:\n",
    "\n",
    "* Training set (70%).\n",
    "* Validation set (15%).\n",
    "* Test set (15%)."
   ]
  },
  {
   "cell_type": "code",
   "execution_count": 46,
   "id": "cd2cca39",
   "metadata": {},
   "outputs": [],
   "source": [
    "X = np.array(traffic_images)\n",
    "y = np.array(traffic_labels)"
   ]
  },
  {
   "cell_type": "code",
   "execution_count": 47,
   "id": "92bc194d",
   "metadata": {},
   "outputs": [],
   "source": [
    "X = X.astype('float') / 255"
   ]
  },
  {
   "cell_type": "code",
   "execution_count": 58,
   "id": "0c00005a",
   "metadata": {},
   "outputs": [],
   "source": [
    "X_train, X_test, y_train, y_test = train_test_split(X, y, test_size=0.3, random_state=42)"
   ]
  },
  {
   "cell_type": "markdown",
   "id": "83974596",
   "metadata": {},
   "source": [
    "## Building the CNN Model\n",
    "In this section, define the architecture of the CNN model. The architecture may consist of:\n",
    "- Convolutional layers with max-pooling\n",
    "- Dropout layers\n",
    "- Flatten layer\n",
    "- Dense layers\n",
    "- Output layer\n",
    "\n",
    "Add and remove any of these as needed!"
   ]
  },
  {
   "cell_type": "code",
   "execution_count": 60,
   "id": "977da65a",
   "metadata": {},
   "outputs": [],
   "source": [
    "model = models.Sequential([\n",
    "    layers.Conv2D(32, (3, 3), activation='relu', input_shape=(64, 64, 3)),\n",
    "    layers.MaxPooling2D((2, 2)),\n",
    "    layers.Conv2D(64, (3, 3), activation='relu'),\n",
    "    layers.MaxPooling2D((2, 2)),\n",
    "    layers.Conv2D(128, (3, 3), activation='relu'),\n",
    "    layers.MaxPooling2D((2, 2)),\n",
    "    layers.Flatten(),\n",
    "    layers.Dense(512, activation='relu'),\n",
    "    layers.Dense(1, activation='softmax')\n",
    "])"
   ]
  },
  {
   "cell_type": "code",
   "execution_count": 61,
   "id": "f4d2ca2d",
   "metadata": {},
   "outputs": [],
   "source": [
    "model.compile(optimizer='adam',\n",
    "              loss='categorical_crossentropy',\n",
    "              metrics=['accuracy'])"
   ]
  },
  {
   "cell_type": "code",
   "execution_count": 62,
   "id": "e118eb94",
   "metadata": {},
   "outputs": [
    {
     "data": {
      "text/html": [
       "<pre style=\"white-space:pre;overflow-x:auto;line-height:normal;font-family:Menlo,'DejaVu Sans Mono',consolas,'Courier New',monospace\"><span style=\"font-weight: bold\">Model: \"sequential_2\"</span>\n",
       "</pre>\n"
      ],
      "text/plain": [
       "\u001b[1mModel: \"sequential_2\"\u001b[0m\n"
      ]
     },
     "metadata": {},
     "output_type": "display_data"
    },
    {
     "data": {
      "text/html": [
       "<pre style=\"white-space:pre;overflow-x:auto;line-height:normal;font-family:Menlo,'DejaVu Sans Mono',consolas,'Courier New',monospace\">┏━━━━━━━━━━━━━━━━━━━━━━━━━━━━━━━━━┳━━━━━━━━━━━━━━━━━━━━━━━━┳━━━━━━━━━━━━━━━┓\n",
       "┃<span style=\"font-weight: bold\"> Layer (type)                    </span>┃<span style=\"font-weight: bold\"> Output Shape           </span>┃<span style=\"font-weight: bold\">       Param # </span>┃\n",
       "┡━━━━━━━━━━━━━━━━━━━━━━━━━━━━━━━━━╇━━━━━━━━━━━━━━━━━━━━━━━━╇━━━━━━━━━━━━━━━┩\n",
       "│ conv2d_6 (<span style=\"color: #0087ff; text-decoration-color: #0087ff\">Conv2D</span>)               │ (<span style=\"color: #00d7ff; text-decoration-color: #00d7ff\">None</span>, <span style=\"color: #00af00; text-decoration-color: #00af00\">62</span>, <span style=\"color: #00af00; text-decoration-color: #00af00\">62</span>, <span style=\"color: #00af00; text-decoration-color: #00af00\">32</span>)     │           <span style=\"color: #00af00; text-decoration-color: #00af00\">896</span> │\n",
       "├─────────────────────────────────┼────────────────────────┼───────────────┤\n",
       "│ max_pooling2d_6 (<span style=\"color: #0087ff; text-decoration-color: #0087ff\">MaxPooling2D</span>)  │ (<span style=\"color: #00d7ff; text-decoration-color: #00d7ff\">None</span>, <span style=\"color: #00af00; text-decoration-color: #00af00\">31</span>, <span style=\"color: #00af00; text-decoration-color: #00af00\">31</span>, <span style=\"color: #00af00; text-decoration-color: #00af00\">32</span>)     │             <span style=\"color: #00af00; text-decoration-color: #00af00\">0</span> │\n",
       "├─────────────────────────────────┼────────────────────────┼───────────────┤\n",
       "│ conv2d_7 (<span style=\"color: #0087ff; text-decoration-color: #0087ff\">Conv2D</span>)               │ (<span style=\"color: #00d7ff; text-decoration-color: #00d7ff\">None</span>, <span style=\"color: #00af00; text-decoration-color: #00af00\">29</span>, <span style=\"color: #00af00; text-decoration-color: #00af00\">29</span>, <span style=\"color: #00af00; text-decoration-color: #00af00\">64</span>)     │        <span style=\"color: #00af00; text-decoration-color: #00af00\">18,496</span> │\n",
       "├─────────────────────────────────┼────────────────────────┼───────────────┤\n",
       "│ max_pooling2d_7 (<span style=\"color: #0087ff; text-decoration-color: #0087ff\">MaxPooling2D</span>)  │ (<span style=\"color: #00d7ff; text-decoration-color: #00d7ff\">None</span>, <span style=\"color: #00af00; text-decoration-color: #00af00\">14</span>, <span style=\"color: #00af00; text-decoration-color: #00af00\">14</span>, <span style=\"color: #00af00; text-decoration-color: #00af00\">64</span>)     │             <span style=\"color: #00af00; text-decoration-color: #00af00\">0</span> │\n",
       "├─────────────────────────────────┼────────────────────────┼───────────────┤\n",
       "│ conv2d_8 (<span style=\"color: #0087ff; text-decoration-color: #0087ff\">Conv2D</span>)               │ (<span style=\"color: #00d7ff; text-decoration-color: #00d7ff\">None</span>, <span style=\"color: #00af00; text-decoration-color: #00af00\">12</span>, <span style=\"color: #00af00; text-decoration-color: #00af00\">12</span>, <span style=\"color: #00af00; text-decoration-color: #00af00\">128</span>)    │        <span style=\"color: #00af00; text-decoration-color: #00af00\">73,856</span> │\n",
       "├─────────────────────────────────┼────────────────────────┼───────────────┤\n",
       "│ max_pooling2d_8 (<span style=\"color: #0087ff; text-decoration-color: #0087ff\">MaxPooling2D</span>)  │ (<span style=\"color: #00d7ff; text-decoration-color: #00d7ff\">None</span>, <span style=\"color: #00af00; text-decoration-color: #00af00\">6</span>, <span style=\"color: #00af00; text-decoration-color: #00af00\">6</span>, <span style=\"color: #00af00; text-decoration-color: #00af00\">128</span>)      │             <span style=\"color: #00af00; text-decoration-color: #00af00\">0</span> │\n",
       "├─────────────────────────────────┼────────────────────────┼───────────────┤\n",
       "│ flatten_2 (<span style=\"color: #0087ff; text-decoration-color: #0087ff\">Flatten</span>)             │ (<span style=\"color: #00d7ff; text-decoration-color: #00d7ff\">None</span>, <span style=\"color: #00af00; text-decoration-color: #00af00\">4608</span>)           │             <span style=\"color: #00af00; text-decoration-color: #00af00\">0</span> │\n",
       "├─────────────────────────────────┼────────────────────────┼───────────────┤\n",
       "│ dense_4 (<span style=\"color: #0087ff; text-decoration-color: #0087ff\">Dense</span>)                 │ (<span style=\"color: #00d7ff; text-decoration-color: #00d7ff\">None</span>, <span style=\"color: #00af00; text-decoration-color: #00af00\">512</span>)            │     <span style=\"color: #00af00; text-decoration-color: #00af00\">2,359,808</span> │\n",
       "├─────────────────────────────────┼────────────────────────┼───────────────┤\n",
       "│ dense_5 (<span style=\"color: #0087ff; text-decoration-color: #0087ff\">Dense</span>)                 │ (<span style=\"color: #00d7ff; text-decoration-color: #00d7ff\">None</span>, <span style=\"color: #00af00; text-decoration-color: #00af00\">1</span>)              │           <span style=\"color: #00af00; text-decoration-color: #00af00\">513</span> │\n",
       "└─────────────────────────────────┴────────────────────────┴───────────────┘\n",
       "</pre>\n"
      ],
      "text/plain": [
       "┏━━━━━━━━━━━━━━━━━━━━━━━━━━━━━━━━━┳━━━━━━━━━━━━━━━━━━━━━━━━┳━━━━━━━━━━━━━━━┓\n",
       "┃\u001b[1m \u001b[0m\u001b[1mLayer (type)                   \u001b[0m\u001b[1m \u001b[0m┃\u001b[1m \u001b[0m\u001b[1mOutput Shape          \u001b[0m\u001b[1m \u001b[0m┃\u001b[1m \u001b[0m\u001b[1m      Param #\u001b[0m\u001b[1m \u001b[0m┃\n",
       "┡━━━━━━━━━━━━━━━━━━━━━━━━━━━━━━━━━╇━━━━━━━━━━━━━━━━━━━━━━━━╇━━━━━━━━━━━━━━━┩\n",
       "│ conv2d_6 (\u001b[38;5;33mConv2D\u001b[0m)               │ (\u001b[38;5;45mNone\u001b[0m, \u001b[38;5;34m62\u001b[0m, \u001b[38;5;34m62\u001b[0m, \u001b[38;5;34m32\u001b[0m)     │           \u001b[38;5;34m896\u001b[0m │\n",
       "├─────────────────────────────────┼────────────────────────┼───────────────┤\n",
       "│ max_pooling2d_6 (\u001b[38;5;33mMaxPooling2D\u001b[0m)  │ (\u001b[38;5;45mNone\u001b[0m, \u001b[38;5;34m31\u001b[0m, \u001b[38;5;34m31\u001b[0m, \u001b[38;5;34m32\u001b[0m)     │             \u001b[38;5;34m0\u001b[0m │\n",
       "├─────────────────────────────────┼────────────────────────┼───────────────┤\n",
       "│ conv2d_7 (\u001b[38;5;33mConv2D\u001b[0m)               │ (\u001b[38;5;45mNone\u001b[0m, \u001b[38;5;34m29\u001b[0m, \u001b[38;5;34m29\u001b[0m, \u001b[38;5;34m64\u001b[0m)     │        \u001b[38;5;34m18,496\u001b[0m │\n",
       "├─────────────────────────────────┼────────────────────────┼───────────────┤\n",
       "│ max_pooling2d_7 (\u001b[38;5;33mMaxPooling2D\u001b[0m)  │ (\u001b[38;5;45mNone\u001b[0m, \u001b[38;5;34m14\u001b[0m, \u001b[38;5;34m14\u001b[0m, \u001b[38;5;34m64\u001b[0m)     │             \u001b[38;5;34m0\u001b[0m │\n",
       "├─────────────────────────────────┼────────────────────────┼───────────────┤\n",
       "│ conv2d_8 (\u001b[38;5;33mConv2D\u001b[0m)               │ (\u001b[38;5;45mNone\u001b[0m, \u001b[38;5;34m12\u001b[0m, \u001b[38;5;34m12\u001b[0m, \u001b[38;5;34m128\u001b[0m)    │        \u001b[38;5;34m73,856\u001b[0m │\n",
       "├─────────────────────────────────┼────────────────────────┼───────────────┤\n",
       "│ max_pooling2d_8 (\u001b[38;5;33mMaxPooling2D\u001b[0m)  │ (\u001b[38;5;45mNone\u001b[0m, \u001b[38;5;34m6\u001b[0m, \u001b[38;5;34m6\u001b[0m, \u001b[38;5;34m128\u001b[0m)      │             \u001b[38;5;34m0\u001b[0m │\n",
       "├─────────────────────────────────┼────────────────────────┼───────────────┤\n",
       "│ flatten_2 (\u001b[38;5;33mFlatten\u001b[0m)             │ (\u001b[38;5;45mNone\u001b[0m, \u001b[38;5;34m4608\u001b[0m)           │             \u001b[38;5;34m0\u001b[0m │\n",
       "├─────────────────────────────────┼────────────────────────┼───────────────┤\n",
       "│ dense_4 (\u001b[38;5;33mDense\u001b[0m)                 │ (\u001b[38;5;45mNone\u001b[0m, \u001b[38;5;34m512\u001b[0m)            │     \u001b[38;5;34m2,359,808\u001b[0m │\n",
       "├─────────────────────────────────┼────────────────────────┼───────────────┤\n",
       "│ dense_5 (\u001b[38;5;33mDense\u001b[0m)                 │ (\u001b[38;5;45mNone\u001b[0m, \u001b[38;5;34m1\u001b[0m)              │           \u001b[38;5;34m513\u001b[0m │\n",
       "└─────────────────────────────────┴────────────────────────┴───────────────┘\n"
      ]
     },
     "metadata": {},
     "output_type": "display_data"
    },
    {
     "data": {
      "text/html": [
       "<pre style=\"white-space:pre;overflow-x:auto;line-height:normal;font-family:Menlo,'DejaVu Sans Mono',consolas,'Courier New',monospace\"><span style=\"font-weight: bold\"> Total params: </span><span style=\"color: #00af00; text-decoration-color: #00af00\">2,453,569</span> (9.36 MB)\n",
       "</pre>\n"
      ],
      "text/plain": [
       "\u001b[1m Total params: \u001b[0m\u001b[38;5;34m2,453,569\u001b[0m (9.36 MB)\n"
      ]
     },
     "metadata": {},
     "output_type": "display_data"
    },
    {
     "data": {
      "text/html": [
       "<pre style=\"white-space:pre;overflow-x:auto;line-height:normal;font-family:Menlo,'DejaVu Sans Mono',consolas,'Courier New',monospace\"><span style=\"font-weight: bold\"> Trainable params: </span><span style=\"color: #00af00; text-decoration-color: #00af00\">2,453,569</span> (9.36 MB)\n",
       "</pre>\n"
      ],
      "text/plain": [
       "\u001b[1m Trainable params: \u001b[0m\u001b[38;5;34m2,453,569\u001b[0m (9.36 MB)\n"
      ]
     },
     "metadata": {},
     "output_type": "display_data"
    },
    {
     "data": {
      "text/html": [
       "<pre style=\"white-space:pre;overflow-x:auto;line-height:normal;font-family:Menlo,'DejaVu Sans Mono',consolas,'Courier New',monospace\"><span style=\"font-weight: bold\"> Non-trainable params: </span><span style=\"color: #00af00; text-decoration-color: #00af00\">0</span> (0.00 B)\n",
       "</pre>\n"
      ],
      "text/plain": [
       "\u001b[1m Non-trainable params: \u001b[0m\u001b[38;5;34m0\u001b[0m (0.00 B)\n"
      ]
     },
     "metadata": {},
     "output_type": "display_data"
    }
   ],
   "source": [
    "model.summary()"
   ]
  },
  {
   "cell_type": "markdown",
   "id": "fe1c0940",
   "metadata": {},
   "source": [
    "## Training the Model\n",
    "Train the CNN model using the training data and validate it on the validation set."
   ]
  },
  {
   "cell_type": "code",
   "execution_count": 63,
   "id": "ce31faf9",
   "metadata": {},
   "outputs": [
    {
     "name": "stdout",
     "output_type": "stream",
     "text": [
      "Epoch 1/20\n"
     ]
    },
    {
     "name": "stderr",
     "output_type": "stream",
     "text": [
      "C:\\Users\\abo_O\\AppData\\Local\\Packages\\PythonSoftwareFoundation.Python.3.11_qbz5n2kfra8p0\\LocalCache\\local-packages\\Python311\\site-packages\\keras\\src\\ops\\nn.py:545: UserWarning: You are using a softmax over axis -1 of a tensor of shape (None, 1). This axis has size 1. The softmax operation will always return the value 1, which is likely not what you intended. Did you mean to use a sigmoid instead?\n",
      "  warnings.warn(\n",
      "C:\\Users\\abo_O\\AppData\\Local\\Packages\\PythonSoftwareFoundation.Python.3.11_qbz5n2kfra8p0\\LocalCache\\local-packages\\Python311\\site-packages\\keras\\src\\losses\\losses.py:27: SyntaxWarning: In loss categorical_crossentropy, expected y_pred.shape to be (batch_size, num_classes) with num_classes > 1. Received: y_pred.shape=(None, 1). Consider using 'binary_crossentropy' if you only have 2 classes.\n",
      "  return self.fn(y_true, y_pred, **self._fn_kwargs)\n"
     ]
    },
    {
     "name": "stdout",
     "output_type": "stream",
     "text": [
      "\u001b[1m687/687\u001b[0m \u001b[32m━━━━━━━━━━━━━━━━━━━━\u001b[0m\u001b[37m\u001b[0m \u001b[1m56s\u001b[0m 76ms/step - accuracy: 0.0535 - loss: 0.0000e+00 - val_accuracy: 0.0563 - val_loss: 0.0000e+00\n",
      "Epoch 2/20\n",
      "\u001b[1m687/687\u001b[0m \u001b[32m━━━━━━━━━━━━━━━━━━━━\u001b[0m\u001b[37m\u001b[0m \u001b[1m46s\u001b[0m 66ms/step - accuracy: 0.0566 - loss: 0.0000e+00 - val_accuracy: 0.0563 - val_loss: 0.0000e+00\n"
     ]
    }
   ],
   "source": [
    "early_stopping = EarlyStopping(monitor='val_loss', patience=1,\n",
    "                                restore_best_weights=True)\n",
    "history = model.fit(X_train, y_train, epochs=20, batch_size=32, \n",
    "                    validation_split=0.2, callbacks=[early_stopping])"
   ]
  },
  {
   "cell_type": "markdown",
   "id": "25ad1b22",
   "metadata": {},
   "source": [
    "## Evaluate the Model\n",
    "Evaluate the performance of the model on the test set."
   ]
  },
  {
   "cell_type": "code",
   "execution_count": 64,
   "id": "eb9ed70f",
   "metadata": {},
   "outputs": [
    {
     "name": "stdout",
     "output_type": "stream",
     "text": [
      "\u001b[1m368/368\u001b[0m \u001b[32m━━━━━━━━━━━━━━━━━━━━\u001b[0m\u001b[37m\u001b[0m \u001b[1m6s\u001b[0m 16ms/step - accuracy: 0.0653 - loss: 0.0000e+00\n"
     ]
    },
    {
     "data": {
      "text/plain": [
       "[0.0, 0.05984867736697197]"
      ]
     },
     "execution_count": 64,
     "metadata": {},
     "output_type": "execute_result"
    }
   ],
   "source": [
    "model.evaluate(X_test, y_test)"
   ]
  },
  {
   "cell_type": "markdown",
   "id": "a37fca33",
   "metadata": {},
   "source": [
    "## Make Predictions\n",
    "Use the trained model to make predictions on new or unseen traffic sign images."
   ]
  },
  {
   "cell_type": "markdown",
   "id": "f1ab3608",
   "metadata": {},
   "source": [
    "if you need new, we prepared some data for you [here](https://drive.google.com/file/d/1S_vpQntND9839x8kJpegaEgtSIA4JxHO/view?usp=sharing), or you can simply run the following command to get the data and unzip it.\n",
    "\n",
    "<small>Note: please note that the file contain MetaData to tell you what each image contains <b>THIS IS JUST FOR YOU TO MAKE SURE</b></smmall>"
   ]
  },
  {
   "cell_type": "code",
   "execution_count": 2,
   "id": "a7a5c981",
   "metadata": {},
   "outputs": [
    {
     "name": "stderr",
     "output_type": "stream",
     "text": [
      "C:\\Users\\abo_O\\AppData\\Local\\Packages\\PythonSoftwareFoundation.Python.3.11_qbz5n2kfra8p0\\LocalCache\\local-packages\\Python311\\site-packages\\gdown\\__main__.py:140: FutureWarning: Option `--id` was deprecated in version 4.3.1 and will be removed in 5.0. You don't need to pass it anymore to use a file ID.\n",
      "  warnings.warn(\n",
      "Downloading...\n",
      "From (original): https://drive.google.com/uc?id=1S_vpQntND9839x8kJpegaEgtSIA4JxHO\n",
      "From (redirected): https://drive.google.com/uc?id=1S_vpQntND9839x8kJpegaEgtSIA4JxHO&confirm=t&uuid=372d8fb8-9730-4452-8be8-c0e257628377\n",
      "To: C:\\Users\\abo_O\\AppData\\Local\\Programs\\Microsoft VS Code\\Test_Dataset.zip\n",
      "\n",
      "  0%|          | 0.00/78.4M [00:00<?, ?B/s]\n",
      "  1%|          | 524k/78.4M [00:00<01:52, 690kB/s]\n",
      "  1%|▏         | 1.05M/78.4M [00:01<01:12, 1.06MB/s]\n",
      "  2%|▏         | 1.57M/78.4M [00:01<00:57, 1.35MB/s]\n",
      "  3%|▎         | 2.10M/78.4M [00:01<00:50, 1.51MB/s]\n",
      "  3%|▎         | 2.62M/78.4M [00:01<00:46, 1.62MB/s]\n",
      "  4%|▍         | 3.15M/78.4M [00:02<00:44, 1.69MB/s]\n",
      "  5%|▍         | 3.67M/78.4M [00:02<00:43, 1.74MB/s]\n",
      "  5%|▌         | 4.19M/78.4M [00:02<00:41, 1.77MB/s]\n",
      "  6%|▌         | 4.72M/78.4M [00:03<00:41, 1.76MB/s]\n",
      "  7%|▋         | 5.24M/78.4M [00:03<00:40, 1.80MB/s]\n",
      "  7%|▋         | 5.77M/78.4M [00:03<00:40, 1.81MB/s]\n",
      "  8%|▊         | 6.29M/78.4M [00:03<00:39, 1.84MB/s]\n",
      "  9%|▊         | 6.82M/78.4M [00:04<00:38, 1.84MB/s]\n",
      "  9%|▉         | 7.34M/78.4M [00:04<00:39, 1.81MB/s]\n",
      " 10%|█         | 7.86M/78.4M [00:04<00:38, 1.81MB/s]\n",
      " 11%|█         | 8.39M/78.4M [00:05<00:39, 1.77MB/s]\n",
      " 11%|█▏        | 8.91M/78.4M [00:05<00:39, 1.77MB/s]\n",
      " 12%|█▏        | 9.44M/78.4M [00:05<00:39, 1.75MB/s]\n",
      " 13%|█▎        | 9.96M/78.4M [00:05<00:38, 1.79MB/s]\n",
      " 13%|█▎        | 10.5M/78.4M [00:06<00:36, 1.86MB/s]\n",
      " 14%|█▍        | 11.0M/78.4M [00:06<00:36, 1.86MB/s]\n",
      " 15%|█▍        | 11.5M/78.4M [00:06<00:36, 1.85MB/s]\n",
      " 15%|█▌        | 12.1M/78.4M [00:07<00:35, 1.85MB/s]\n",
      " 16%|█▌        | 12.6M/78.4M [00:07<00:36, 1.81MB/s]\n",
      " 17%|█▋        | 13.1M/78.4M [00:07<00:35, 1.84MB/s]\n",
      " 17%|█▋        | 13.6M/78.4M [00:07<00:36, 1.80MB/s]\n",
      " 18%|█▊        | 14.2M/78.4M [00:08<00:34, 1.86MB/s]\n",
      " 19%|█▊        | 14.7M/78.4M [00:08<00:34, 1.83MB/s]\n",
      " 19%|█▉        | 15.2M/78.4M [00:08<00:36, 1.72MB/s]\n",
      " 20%|██        | 15.7M/78.4M [00:09<00:33, 1.87MB/s]\n",
      " 21%|██        | 16.3M/78.4M [00:09<00:34, 1.83MB/s]\n",
      " 21%|██▏       | 16.8M/78.4M [00:09<00:37, 1.64MB/s]\n",
      " 22%|██▏       | 17.3M/78.4M [00:10<00:36, 1.69MB/s]\n",
      " 23%|██▎       | 17.8M/78.4M [00:10<00:35, 1.71MB/s]\n",
      " 23%|██▎       | 18.4M/78.4M [00:10<00:33, 1.78MB/s]\n",
      " 24%|██▍       | 18.9M/78.4M [00:10<00:35, 1.68MB/s]\n",
      " 25%|██▍       | 19.4M/78.4M [00:11<00:34, 1.71MB/s]\n",
      " 25%|██▌       | 19.9M/78.4M [00:12<01:04, 902kB/s] \n",
      " 26%|██▌       | 20.4M/78.4M [00:13<01:14, 776kB/s]\n",
      " 27%|██▋       | 21.0M/78.4M [00:13<00:59, 960kB/s]\n",
      " 27%|██▋       | 21.5M/78.4M [00:13<00:50, 1.14MB/s]\n",
      " 28%|██▊       | 22.0M/78.4M [00:14<00:43, 1.29MB/s]\n",
      " 29%|██▉       | 22.5M/78.4M [00:14<00:42, 1.32MB/s]\n",
      " 29%|██▉       | 23.1M/78.4M [00:14<00:38, 1.42MB/s]\n",
      " 30%|███       | 23.6M/78.4M [00:15<00:35, 1.55MB/s]\n",
      " 31%|███       | 24.1M/78.4M [00:15<00:33, 1.61MB/s]\n",
      " 31%|███▏      | 24.6M/78.4M [00:15<00:32, 1.67MB/s]\n",
      " 32%|███▏      | 25.2M/78.4M [00:16<00:31, 1.68MB/s]\n",
      " 33%|███▎      | 25.7M/78.4M [00:16<00:32, 1.65MB/s]\n",
      " 33%|███▎      | 26.2M/78.4M [00:16<00:32, 1.61MB/s]\n",
      " 34%|███▍      | 26.7M/78.4M [00:17<00:32, 1.59MB/s]\n",
      " 35%|███▍      | 27.3M/78.4M [00:17<00:29, 1.71MB/s]\n",
      " 35%|███▌      | 27.8M/78.4M [00:17<00:27, 1.81MB/s]\n",
      " 36%|███▌      | 28.3M/78.4M [00:17<00:27, 1.85MB/s]\n",
      " 37%|███▋      | 28.8M/78.4M [00:17<00:24, 2.06MB/s]\n",
      " 37%|███▋      | 29.4M/78.4M [00:18<00:24, 2.01MB/s]\n",
      " 38%|███▊      | 29.9M/78.4M [00:18<00:24, 1.94MB/s]\n",
      " 39%|███▉      | 30.4M/78.4M [00:18<00:25, 1.90MB/s]\n",
      " 39%|███▉      | 30.9M/78.4M [00:19<00:24, 1.90MB/s]\n",
      " 40%|████      | 31.5M/78.4M [00:19<00:30, 1.55MB/s]\n",
      " 41%|████      | 32.0M/78.4M [00:19<00:24, 1.90MB/s]\n",
      " 41%|████▏     | 32.5M/78.4M [00:19<00:23, 1.93MB/s]\n",
      " 42%|████▏     | 33.0M/78.4M [00:20<00:23, 1.95MB/s]\n",
      " 43%|████▎     | 33.6M/78.4M [00:20<00:24, 1.85MB/s]\n",
      " 43%|████▎     | 34.1M/78.4M [00:20<00:23, 1.90MB/s]\n",
      " 44%|████▍     | 34.6M/78.4M [00:21<00:23, 1.85MB/s]\n",
      " 45%|████▍     | 35.1M/78.4M [00:21<00:26, 1.61MB/s]\n",
      " 45%|████▌     | 35.7M/78.4M [00:21<00:25, 1.67MB/s]\n",
      " 46%|████▌     | 36.2M/78.4M [00:22<00:24, 1.71MB/s]\n",
      " 47%|████▋     | 36.7M/78.4M [00:22<00:23, 1.75MB/s]\n",
      " 47%|████▋     | 37.2M/78.4M [00:22<00:23, 1.77MB/s]\n",
      " 48%|████▊     | 37.7M/78.4M [00:22<00:23, 1.76MB/s]\n",
      " 49%|████▉     | 38.3M/78.4M [00:23<00:22, 1.78MB/s]\n",
      " 49%|████▉     | 38.8M/78.4M [00:23<00:21, 1.80MB/s]\n",
      " 50%|█████     | 39.3M/78.4M [00:23<00:21, 1.82MB/s]\n",
      " 51%|█████     | 39.8M/78.4M [00:24<00:20, 1.84MB/s]\n",
      " 51%|█████▏    | 40.4M/78.4M [00:24<00:20, 1.82MB/s]\n",
      " 52%|█████▏    | 40.9M/78.4M [00:24<00:20, 1.79MB/s]\n",
      " 53%|█████▎    | 41.4M/78.4M [00:24<00:20, 1.84MB/s]\n",
      " 53%|█████▎    | 41.9M/78.4M [00:25<00:20, 1.82MB/s]\n",
      " 54%|█████▍    | 42.5M/78.4M [00:25<00:19, 1.82MB/s]\n",
      " 55%|█████▍    | 43.0M/78.4M [00:25<00:19, 1.79MB/s]\n",
      " 55%|█████▌    | 43.5M/78.4M [00:26<00:19, 1.78MB/s]\n",
      " 56%|█████▌    | 44.0M/78.4M [00:26<00:18, 1.82MB/s]\n",
      " 57%|█████▋    | 44.6M/78.4M [00:26<00:18, 1.84MB/s]\n",
      " 58%|█████▊    | 45.1M/78.4M [00:27<00:18, 1.82MB/s]\n",
      " 58%|█████▊    | 45.6M/78.4M [00:27<00:18, 1.75MB/s]\n",
      " 59%|█████▉    | 46.1M/78.4M [00:27<00:19, 1.65MB/s]\n",
      " 60%|█████▉    | 46.7M/78.4M [00:28<00:19, 1.61MB/s]\n",
      " 60%|██████    | 47.2M/78.4M [00:28<00:19, 1.62MB/s]\n",
      " 61%|██████    | 47.7M/78.4M [00:28<00:18, 1.67MB/s]\n",
      " 62%|██████▏   | 48.2M/78.4M [00:28<00:17, 1.71MB/s]\n",
      " 62%|██████▏   | 48.8M/78.4M [00:29<00:16, 1.75MB/s]\n",
      " 63%|██████▎   | 49.3M/78.4M [00:29<00:16, 1.74MB/s]\n",
      " 64%|██████▎   | 49.8M/78.4M [00:29<00:16, 1.77MB/s]\n",
      " 64%|██████▍   | 50.3M/78.4M [00:30<00:15, 1.80MB/s]\n",
      " 65%|██████▍   | 50.9M/78.4M [00:30<00:15, 1.79MB/s]\n",
      " 66%|██████▌   | 51.4M/78.4M [00:30<00:15, 1.80MB/s]\n",
      " 66%|██████▌   | 51.9M/78.4M [00:30<00:14, 1.79MB/s]\n",
      " 67%|██████▋   | 52.4M/78.4M [00:31<00:15, 1.70MB/s]\n",
      " 68%|██████▊   | 53.0M/78.4M [00:31<00:13, 1.84MB/s]\n",
      " 68%|██████▊   | 53.5M/78.4M [00:31<00:13, 1.85MB/s]\n",
      " 69%|██████▉   | 54.0M/78.4M [00:32<00:13, 1.77MB/s]\n",
      " 70%|██████▉   | 54.5M/78.4M [00:32<00:13, 1.83MB/s]\n",
      " 70%|███████   | 55.1M/78.4M [00:32<00:13, 1.78MB/s]\n",
      " 71%|███████   | 55.6M/78.4M [00:32<00:12, 1.86MB/s]\n",
      " 72%|███████▏  | 56.1M/78.4M [00:33<00:11, 1.91MB/s]\n",
      " 72%|███████▏  | 56.6M/78.4M [00:33<00:11, 1.89MB/s]\n",
      " 73%|███████▎  | 57.1M/78.4M [00:33<00:11, 1.87MB/s]\n",
      " 74%|███████▎  | 57.7M/78.4M [00:34<00:11, 1.88MB/s]\n",
      " 74%|███████▍  | 58.2M/78.4M [00:34<00:10, 1.86MB/s]\n",
      " 75%|███████▍  | 58.7M/78.4M [00:34<00:10, 1.87MB/s]\n",
      " 76%|███████▌  | 59.2M/78.4M [00:34<00:10, 1.87MB/s]\n",
      " 76%|███████▌  | 59.8M/78.4M [00:35<00:10, 1.85MB/s]\n",
      " 77%|███████▋  | 60.3M/78.4M [00:35<00:09, 1.84MB/s]\n",
      " 78%|███████▊  | 60.8M/78.4M [00:35<00:09, 1.87MB/s]\n",
      " 78%|███████▊  | 61.3M/78.4M [00:36<00:09, 1.88MB/s]\n",
      " 79%|███████▉  | 61.9M/78.4M [00:36<00:08, 1.89MB/s]\n",
      " 80%|███████▉  | 62.4M/78.4M [00:36<00:09, 1.69MB/s]\n",
      " 80%|████████  | 62.9M/78.4M [00:36<00:08, 1.83MB/s]\n",
      " 81%|████████  | 63.4M/78.4M [00:37<00:07, 1.95MB/s]\n",
      " 82%|████████▏ | 64.0M/78.4M [00:37<00:07, 1.91MB/s]\n",
      " 82%|████████▏ | 64.5M/78.4M [00:37<00:07, 1.91MB/s]\n",
      " 83%|████████▎ | 65.0M/78.4M [00:38<00:07, 1.84MB/s]\n",
      " 84%|████████▎ | 65.5M/78.4M [00:38<00:07, 1.79MB/s]\n",
      " 84%|████████▍ | 66.1M/78.4M [00:38<00:06, 1.84MB/s]\n",
      " 85%|████████▍ | 66.6M/78.4M [00:38<00:06, 1.86MB/s]\n",
      " 86%|████████▌ | 67.1M/78.4M [00:39<00:06, 1.80MB/s]\n",
      " 86%|████████▋ | 67.6M/78.4M [00:39<00:05, 1.83MB/s]\n",
      " 87%|████████▋ | 68.2M/78.4M [00:39<00:05, 1.82MB/s]\n",
      " 88%|████████▊ | 68.7M/78.4M [00:40<00:05, 1.85MB/s]\n",
      " 88%|████████▊ | 69.2M/78.4M [00:40<00:05, 1.83MB/s]\n",
      " 89%|████████▉ | 69.7M/78.4M [00:40<00:04, 1.83MB/s]\n",
      " 90%|████████▉ | 70.3M/78.4M [00:40<00:04, 1.85MB/s]\n",
      " 90%|█████████ | 70.8M/78.4M [00:41<00:04, 1.85MB/s]\n",
      " 91%|█████████ | 71.3M/78.4M [00:41<00:03, 1.86MB/s]\n",
      " 92%|█████████▏| 71.8M/78.4M [00:41<00:03, 1.85MB/s]\n",
      " 92%|█████████▏| 72.4M/78.4M [00:42<00:03, 1.60MB/s]\n",
      " 93%|█████████▎| 72.9M/78.4M [00:42<00:03, 1.50MB/s]\n",
      " 94%|█████████▎| 73.4M/78.4M [00:42<00:02, 1.71MB/s]\n",
      " 94%|█████████▍| 73.9M/78.4M [00:43<00:02, 1.82MB/s]\n",
      " 95%|█████████▍| 74.4M/78.4M [00:43<00:02, 1.74MB/s]\n",
      " 96%|█████████▌| 75.0M/78.4M [00:43<00:01, 1.79MB/s]\n",
      " 96%|█████████▋| 75.5M/78.4M [00:43<00:01, 1.83MB/s]\n",
      " 97%|█████████▋| 76.0M/78.4M [00:44<00:01, 1.80MB/s]\n",
      " 98%|█████████▊| 76.5M/78.4M [00:44<00:01, 1.74MB/s]\n",
      " 98%|█████████▊| 77.1M/78.4M [00:44<00:00, 1.70MB/s]\n",
      " 99%|█████████▉| 77.6M/78.4M [00:45<00:00, 1.82MB/s]\n",
      "100%|█████████▉| 78.1M/78.4M [00:45<00:00, 1.81MB/s]\n",
      "100%|██████████| 78.4M/78.4M [00:45<00:00, 1.82MB/s]\n",
      "100%|██████████| 78.4M/78.4M [00:45<00:00, 1.72MB/s]\n",
      "'unzip' is not recognized as an internal or external command,\n",
      "operable program or batch file.\n"
     ]
    }
   ],
   "source": [
    "# #https://drive.google.com/file/d/1S_vpQntND9839x8kJpegaEgtSIA4JxHO/view?usp=sharing\n",
    "# !gdown --id 1S_vpQntND9839x8kJpegaEgtSIA4JxHO\n",
    "# !unzip Test_Dataset.zip"
   ]
  },
  {
   "cell_type": "code",
   "execution_count": 65,
   "id": "756c5f0a",
   "metadata": {},
   "outputs": [],
   "source": [
    "test_images_paths = 'D:\\Tuwaiq Academy\\Tuwaiq_Academy_T5_Week_5\\Weekly_Project\\Dataset\\Test_Dataset\\Test_Dataset\\Dataset'"
   ]
  },
  {
   "cell_type": "code",
   "execution_count": 66,
   "id": "216ad45b",
   "metadata": {},
   "outputs": [
    {
     "data": {
      "image/png": "[encoded data removed]",
      "text/plain": [
       "<Figure size 640x480 with 1 Axes>"
      ]
     },
     "metadata": {},
     "output_type": "display_data"
    }
   ],
   "source": [
    "test_img_path = os.path.join(test_images_paths, '00003.png')\n",
    "img = cv2.imread(test_img_path)\n",
    "if img is not None:\n",
    "    plt.imshow(cv2.cvtColor(img, cv2.COLOR_BGR2RGB))\n",
    "    plt.title('Test Image')\n",
    "    plt.show()\n",
    "else:\n",
    "    print(f\"Failed to read image at {test_img_path}\")"
   ]
  },
  {
   "cell_type": "code",
   "execution_count": 69,
   "id": "be46ba26",
   "metadata": {},
   "outputs": [
    {
     "ename": "ValueError",
     "evalue": "Invalid dtype: str32",
     "output_type": "error",
     "traceback": [
      "\u001b[1;31m---------------------------------------------------------------------------\u001b[0m",
      "\u001b[1;31mValueError\u001b[0m                                Traceback (most recent call last)",
      "Cell \u001b[1;32mIn[69], line 10\u001b[0m\n\u001b[0;32m      7\u001b[0m test_image \u001b[38;5;241m=\u001b[39m np\u001b[38;5;241m.\u001b[39mexpand_dims(test_image, axis\u001b[38;5;241m=\u001b[39m\u001b[38;5;241m0\u001b[39m)\n\u001b[0;32m      9\u001b[0m \u001b[38;5;66;03m# Make a prediction\u001b[39;00m\n\u001b[1;32m---> 10\u001b[0m prediction \u001b[38;5;241m=\u001b[39m \u001b[43mmodel\u001b[49m\u001b[38;5;241;43m.\u001b[39;49m\u001b[43mpredict\u001b[49m\u001b[43m(\u001b[49m\u001b[43mtest_image\u001b[49m\u001b[43m)\u001b[49m\n\u001b[0;32m     12\u001b[0m \u001b[38;5;66;03m# Display the image and the prediction\u001b[39;00m\n\u001b[0;32m     13\u001b[0m plt\u001b[38;5;241m.\u001b[39mimshow(test_image[\u001b[38;5;241m0\u001b[39m])\n",
      "File \u001b[1;32m~\\AppData\\Local\\Packages\\PythonSoftwareFoundation.Python.3.11_qbz5n2kfra8p0\\LocalCache\\local-packages\\Python311\\site-packages\\keras\\src\\utils\\traceback_utils.py:122\u001b[0m, in \u001b[0;36mfilter_traceback.<locals>.error_handler\u001b[1;34m(*args, **kwargs)\u001b[0m\n\u001b[0;32m    119\u001b[0m     filtered_tb \u001b[38;5;241m=\u001b[39m _process_traceback_frames(e\u001b[38;5;241m.\u001b[39m__traceback__)\n\u001b[0;32m    120\u001b[0m     \u001b[38;5;66;03m# To get the full stack trace, call:\u001b[39;00m\n\u001b[0;32m    121\u001b[0m     \u001b[38;5;66;03m# `keras.config.disable_traceback_filtering()`\u001b[39;00m\n\u001b[1;32m--> 122\u001b[0m     \u001b[38;5;28;01mraise\u001b[39;00m e\u001b[38;5;241m.\u001b[39mwith_traceback(filtered_tb) \u001b[38;5;28;01mfrom\u001b[39;00m \u001b[38;5;28;01mNone\u001b[39;00m\n\u001b[0;32m    123\u001b[0m \u001b[38;5;28;01mfinally\u001b[39;00m:\n\u001b[0;32m    124\u001b[0m     \u001b[38;5;28;01mdel\u001b[39;00m filtered_tb\n",
      "File \u001b[1;32m~\\AppData\\Local\\Packages\\PythonSoftwareFoundation.Python.3.11_qbz5n2kfra8p0\\LocalCache\\local-packages\\Python311\\site-packages\\optree\\ops.py:747\u001b[0m, in \u001b[0;36mtree_map\u001b[1;34m(func, tree, is_leaf, none_is_leaf, namespace, *rests)\u001b[0m\n\u001b[0;32m    745\u001b[0m leaves, treespec \u001b[38;5;241m=\u001b[39m _C\u001b[38;5;241m.\u001b[39mflatten(tree, is_leaf, none_is_leaf, namespace)\n\u001b[0;32m    746\u001b[0m flat_args \u001b[38;5;241m=\u001b[39m [leaves] \u001b[38;5;241m+\u001b[39m [treespec\u001b[38;5;241m.\u001b[39mflatten_up_to(r) \u001b[38;5;28;01mfor\u001b[39;00m r \u001b[38;5;129;01min\u001b[39;00m rests]\n\u001b[1;32m--> 747\u001b[0m \u001b[38;5;28;01mreturn\u001b[39;00m \u001b[43mtreespec\u001b[49m\u001b[38;5;241;43m.\u001b[39;49m\u001b[43munflatten\u001b[49m\u001b[43m(\u001b[49m\u001b[38;5;28;43mmap\u001b[39;49m\u001b[43m(\u001b[49m\u001b[43mfunc\u001b[49m\u001b[43m,\u001b[49m\u001b[43m \u001b[49m\u001b[38;5;241;43m*\u001b[39;49m\u001b[43mflat_args\u001b[49m\u001b[43m)\u001b[49m\u001b[43m)\u001b[49m\n",
      "\u001b[1;31mValueError\u001b[0m: Invalid dtype: str32"
     ]
    }
   ],
   "source": [
    "# Choose a random image from the test set\n",
    "random_index = np.random.randint(0, len(test_images_paths))\n",
    "test_image = test_images_paths[random_index]\n",
    "true_label = test_images_paths[random_index]\n",
    "\n",
    "# Reshape the image to match the model's input shape\n",
    "test_image = np.expand_dims(test_image, axis=0)\n",
    "\n",
    "# Make a prediction\n",
    "prediction = model.predict(test_image)\n",
    "\n",
    "# Display the image and the prediction\n",
    "plt.imshow(test_image[0])\n",
    "plt.axis('off')\n",
    "plt.show()\n",
    "\n",
    "print(prediction)\n"
   ]
  },
  {
   "cell_type": "markdown",
   "id": "8430600d",
   "metadata": {},
   "source": [
    "## Model Performance Visualization\n",
    "Visualize performance metrics such as accuracy and loss over the epochs."
   ]
  },
  {
   "cell_type": "code",
   "execution_count": 70,
   "id": "50624cfe",
   "metadata": {},
   "outputs": [
    {
     "data": {
      "image/png": "[encoded data removed]",
      "text/plain": [
       "<Figure size 1000x600 with 1 Axes>"
      ]
     },
     "metadata": {},
     "output_type": "display_data"
    }
   ],
   "source": [
    "import matplotlib.pyplot as plt\n",
    "\n",
    "# Plotting the training loss vs validation loss\n",
    "plt.figure(figsize=(10, 6))\n",
    "plt.plot(history.history['loss'], label='Training Loss')\n",
    "plt.plot(history.history['val_loss'], label='Validation Loss')\n",
    "plt.title('Training and Validation Loss')\n",
    "plt.xlabel('Epochs')\n",
    "plt.ylabel('Loss')\n",
    "plt.legend()\n",
    "plt.show()"
   ]
  },
  {
   "cell_type": "markdown",
   "id": "8d4f3348",
   "metadata": {},
   "source": [
    "## Save the Model\n",
    "Save the trained CNN model for submission."
   ]
  },
  {
   "cell_type": "code",
   "execution_count": null,
   "id": "fe6b2df0",
   "metadata": {},
   "outputs": [],
   "source": []
  },
  {
   "cell_type": "markdown",
   "id": "ed90995f",
   "metadata": {},
   "source": [
    "## Project Questions:\n",
    "\n",
    "1. **Data Preprocessing**: Explain why you chose your specific data preprocessing techniques (e.g., resizing images, normalization, data augmentation). How do these preprocessing steps improve the performance of your CNN model?\n",
    "2. **Model Architecture**: Describe the architecture of your CNN model (e.g., number of convolutional layers, kernel sizes, pooling layers). Why did you choose this structure, and how do you expect each layer to contribute to feature extraction?\n",
    "3. **Activation Functions**: Justify your choice of activation functions. How do they influence the training and output of your CNN?\n",
    "4. **Training Process**: Discuss your choice of batch size, number of epochs, and optimizer. How did these decisions impact the training process and the convergence of the model?\n",
    "5. **Loss Function and Metrics**: Explain why you chose the specific loss function and evaluation metrics for this classification task. How do they align with the goal of correctly classifying traffic signs?\n",
    "6. **Regularization Techniques**: If you used regularization methods like dropout or batch normalization, explain why you implemented them and how they helped prevent overfitting in your model.\n",
    "7. **Model Evaluation**: Justify the method you used to evaluate your model's performance on the test set. Why did you select these evaluation techniques, and what insights did they provide about your model's accuracy and generalization ability?\n",
    "8. **Model Visualization**: Explain the significance of the performance visualizations (e.g., accuracy and loss curves). What do they tell you about your model's training process and its ability to generalize?\n",
    "9. **Overfitting and Underfitting**: Analyze whether the model encountered any overfitting or underfitting during training. What strategies could you implement to mitigate these issues?"
   ]
  },
  {
   "cell_type": "markdown",
   "id": "02e7f114",
   "metadata": {},
   "source": [
    "### Answer Here:"
   ]
  }
 ],
 "metadata": {
  "kernelspec": {
   "display_name": "Python 3",
   "language": "python",
   "name": "python3"
  },
  "language_info": {
   "codemirror_mode": {
    "name": "ipython",
    "version": 3
   },
   "file_extension": ".py",
   "mimetype": "text/x-python",
   "name": "python",
   "nbconvert_exporter": "python",
   "pygments_lexer": "ipython3",
   "version": "3.11.9"
  }
 },
 "nbformat": 4,
 "nbformat_minor": 5
}
