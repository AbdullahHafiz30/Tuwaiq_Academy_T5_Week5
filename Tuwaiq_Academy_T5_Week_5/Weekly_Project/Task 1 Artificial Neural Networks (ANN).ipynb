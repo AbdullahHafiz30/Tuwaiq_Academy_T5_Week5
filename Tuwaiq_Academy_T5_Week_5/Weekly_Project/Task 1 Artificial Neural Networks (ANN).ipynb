{
 "cells": [
  {
   "cell_type": "markdown",
   "id": "cda1ba95",
   "metadata": {},
   "source": [
    "# Exam on Artificial Neural Networks (ANN)\n",
    "\n",
    "Welcome the Artificial Neural Networks (ANN) practical exam. In this exam, you will work on a classification task to predict the outcome of incidents involving buses. You are provided with a dataset that records breakdowns and delays in bus operations. Your task is to build, train, and evaluate an ANN model.\n",
    "\n",
    "---\n",
    "\n",
    "## Dataset Overview\n",
    "\n",
    "### **Dataset:**\n",
    "* Just run the command under the `Load Data` section to get the data downloaded and unzipped or you can access it [here](https://drive.google.com/file/d/1Flvj3qDkV2rPw7GGi5zOR-WGJgEBtRk-/view?usp=sharing)\n",
    "\n",
    "### **Dataset Name:** Bus Breakdown and Delays\n",
    "\n",
    "### **Description:**  \n",
    "The dataset contains records of incidents involving buses that were either running late or experienced a breakdown. Your task is to predict whether the bus was delayed or had a breakdown based on the features provided.\n",
    "\n",
    "### **Features:**\n",
    "The dataset contains the following columns:\n",
    "\n",
    "- `School_Year`\n",
    "- `Busbreakdown_ID`\n",
    "- `Run_Type`\n",
    "- `Bus_No`\n",
    "- `Route_Number`\n",
    "- `Reason`\n",
    "- `Schools_Serviced`\n",
    "- `Occurred_On`\n",
    "- `Created_On`\n",
    "- `Boro`\n",
    "- `Bus_Company_Name`\n",
    "- `How_Long_Delayed`\n",
    "- `Number_Of_Students_On_The_Bus`\n",
    "- `Has_Contractor_Notified_Schools`\n",
    "- `Has_Contractor_Notified_Parents`\n",
    "- `Have_You_Alerted_OPT`\n",
    "- `Informed_On`\n",
    "- `Incident_Number`\n",
    "- `Last_Updated_On`\n",
    "- `Breakdown_or_Running_Late` (Target Column)\n",
    "- `School_Age_or_PreK`"
   ]
  },
  {
   "cell_type": "markdown",
   "id": "4c2b014b",
   "metadata": {},
   "source": [
    "## Load Data"
   ]
  },
  {
   "cell_type": "code",
   "execution_count": null,
   "id": "98ad02f5",
   "metadata": {},
   "outputs": [],
   "source": [
    "# #https://drive.google.com/file/d/1Flvj3qDkV2rPw7GGi5zOR-WGJgEBtRk-/view?usp=sharing\n",
    "# !pip install gdown\n",
    "# !gdown --id 1Flvj3qDkV2rPw7GGi5zOR-WGJgEBtRk-"
   ]
  },
  {
   "cell_type": "markdown",
   "id": "3e39620c",
   "metadata": {},
   "source": [
    "## Importing Libraries"
   ]
  },
  {
   "cell_type": "code",
   "execution_count": 1,
   "id": "62381953",
   "metadata": {},
   "outputs": [],
   "source": [
    "import pandas as pd\n",
    "import numpy as np\n",
    "import seaborn as sns\n",
    "import matplotlib.pyplot as plt\n",
    "from sklearn.preprocessing import StandardScaler, LabelEncoder\n",
    "from sklearn.metrics import accuracy_score, classification_report\n",
    "from sklearn.model_selection import train_test_split\n",
    "from tensorflow.keras.models import Sequential\n",
    "from tensorflow.keras.layers import Dense\n",
    "from tensorflow.keras.optimizers import Adam"
   ]
  },
  {
   "cell_type": "code",
   "execution_count": 2,
   "id": "89438e28",
   "metadata": {},
   "outputs": [
    {
     "data": {
      "text/html": [
       "<div>\n",
       "<style scoped>\n",
       "    .dataframe tbody tr th:only-of-type {\n",
       "        vertical-align: middle;\n",
       "    }\n",
       "\n",
       "    .dataframe tbody tr th {\n",
       "        vertical-align: top;\n",
       "    }\n",
       "\n",
       "    .dataframe thead th {\n",
       "        text-align: right;\n",
       "    }\n",
       "</style>\n",
       "<table border=\"1\" class=\"dataframe\">\n",
       "  <thead>\n",
       "    <tr style=\"text-align: right;\">\n",
       "      <th></th>\n",
       "      <th>School_Year</th>\n",
       "      <th>Busbreakdown_ID</th>\n",
       "      <th>Run_Type</th>\n",
       "      <th>Bus_No</th>\n",
       "      <th>Route_Number</th>\n",
       "      <th>Reason</th>\n",
       "      <th>Schools_Serviced</th>\n",
       "      <th>Occurred_On</th>\n",
       "      <th>Created_On</th>\n",
       "      <th>Boro</th>\n",
       "      <th>...</th>\n",
       "      <th>How_Long_Delayed</th>\n",
       "      <th>Number_Of_Students_On_The_Bus</th>\n",
       "      <th>Has_Contractor_Notified_Schools</th>\n",
       "      <th>Has_Contractor_Notified_Parents</th>\n",
       "      <th>Have_You_Alerted_OPT</th>\n",
       "      <th>Informed_On</th>\n",
       "      <th>Incident_Number</th>\n",
       "      <th>Last_Updated_On</th>\n",
       "      <th>Breakdown_or_Running_Late</th>\n",
       "      <th>School_Age_or_PreK</th>\n",
       "    </tr>\n",
       "  </thead>\n",
       "  <tbody>\n",
       "    <tr>\n",
       "      <th>0</th>\n",
       "      <td>2015-2016</td>\n",
       "      <td>1224901</td>\n",
       "      <td>Pre-K/EI</td>\n",
       "      <td>811</td>\n",
       "      <td>1</td>\n",
       "      <td>Other</td>\n",
       "      <td>C353</td>\n",
       "      <td>10/26/2015 08:30:00 AM</td>\n",
       "      <td>10/26/2015 08:40:00 AM</td>\n",
       "      <td>Bronx</td>\n",
       "      <td>...</td>\n",
       "      <td>10MINUTES</td>\n",
       "      <td>5</td>\n",
       "      <td>Yes</td>\n",
       "      <td>Yes</td>\n",
       "      <td>No</td>\n",
       "      <td>10/26/2015 08:40:00 AM</td>\n",
       "      <td>NaN</td>\n",
       "      <td>10/26/2015 08:40:39 AM</td>\n",
       "      <td>Running Late</td>\n",
       "      <td>Pre-K</td>\n",
       "    </tr>\n",
       "    <tr>\n",
       "      <th>1</th>\n",
       "      <td>2015-2016</td>\n",
       "      <td>1225098</td>\n",
       "      <td>Pre-K/EI</td>\n",
       "      <td>9302</td>\n",
       "      <td>1</td>\n",
       "      <td>Heavy Traffic</td>\n",
       "      <td>C814</td>\n",
       "      <td>10/27/2015 07:10:00 AM</td>\n",
       "      <td>10/27/2015 07:11:00 AM</td>\n",
       "      <td>Bronx</td>\n",
       "      <td>...</td>\n",
       "      <td>25 MINUTES</td>\n",
       "      <td>3</td>\n",
       "      <td>Yes</td>\n",
       "      <td>Yes</td>\n",
       "      <td>No</td>\n",
       "      <td>10/27/2015 07:11:00 AM</td>\n",
       "      <td>NaN</td>\n",
       "      <td>10/27/2015 07:11:22 AM</td>\n",
       "      <td>Running Late</td>\n",
       "      <td>Pre-K</td>\n",
       "    </tr>\n",
       "    <tr>\n",
       "      <th>2</th>\n",
       "      <td>2015-2016</td>\n",
       "      <td>1215800</td>\n",
       "      <td>Pre-K/EI</td>\n",
       "      <td>358</td>\n",
       "      <td>2</td>\n",
       "      <td>Heavy Traffic</td>\n",
       "      <td>C195</td>\n",
       "      <td>09/18/2015 07:36:00 AM</td>\n",
       "      <td>09/18/2015 07:38:00 AM</td>\n",
       "      <td>Bronx</td>\n",
       "      <td>...</td>\n",
       "      <td>15 MINUTES</td>\n",
       "      <td>12</td>\n",
       "      <td>Yes</td>\n",
       "      <td>Yes</td>\n",
       "      <td>Yes</td>\n",
       "      <td>09/18/2015 07:38:00 AM</td>\n",
       "      <td>NaN</td>\n",
       "      <td>09/18/2015 07:38:44 AM</td>\n",
       "      <td>Running Late</td>\n",
       "      <td>Pre-K</td>\n",
       "    </tr>\n",
       "    <tr>\n",
       "      <th>3</th>\n",
       "      <td>2015-2016</td>\n",
       "      <td>1215511</td>\n",
       "      <td>Pre-K/EI</td>\n",
       "      <td>331</td>\n",
       "      <td>2</td>\n",
       "      <td>Other</td>\n",
       "      <td>C178</td>\n",
       "      <td>09/17/2015 08:08:00 AM</td>\n",
       "      <td>09/17/2015 08:12:00 AM</td>\n",
       "      <td>Bronx</td>\n",
       "      <td>...</td>\n",
       "      <td>10 minutes</td>\n",
       "      <td>11</td>\n",
       "      <td>Yes</td>\n",
       "      <td>Yes</td>\n",
       "      <td>Yes</td>\n",
       "      <td>09/17/2015 08:12:00 AM</td>\n",
       "      <td>NaN</td>\n",
       "      <td>09/17/2015 08:12:08 AM</td>\n",
       "      <td>Running Late</td>\n",
       "      <td>Pre-K</td>\n",
       "    </tr>\n",
       "    <tr>\n",
       "      <th>4</th>\n",
       "      <td>2015-2016</td>\n",
       "      <td>1215828</td>\n",
       "      <td>Pre-K/EI</td>\n",
       "      <td>332</td>\n",
       "      <td>2</td>\n",
       "      <td>Other</td>\n",
       "      <td>S176</td>\n",
       "      <td>09/18/2015 07:39:00 AM</td>\n",
       "      <td>09/18/2015 07:45:00 AM</td>\n",
       "      <td>Bronx</td>\n",
       "      <td>...</td>\n",
       "      <td>10MINUTES</td>\n",
       "      <td>12</td>\n",
       "      <td>Yes</td>\n",
       "      <td>Yes</td>\n",
       "      <td>No</td>\n",
       "      <td>09/18/2015 07:45:00 AM</td>\n",
       "      <td>NaN</td>\n",
       "      <td>09/18/2015 07:56:40 AM</td>\n",
       "      <td>Running Late</td>\n",
       "      <td>Pre-K</td>\n",
       "    </tr>\n",
       "  </tbody>\n",
       "</table>\n",
       "<p>5 rows × 21 columns</p>\n",
       "</div>"
      ],
      "text/plain": [
       "  School_Year  Busbreakdown_ID  Run_Type Bus_No Route_Number         Reason  \\\n",
       "0   2015-2016          1224901  Pre-K/EI    811            1          Other   \n",
       "1   2015-2016          1225098  Pre-K/EI   9302            1  Heavy Traffic   \n",
       "2   2015-2016          1215800  Pre-K/EI    358            2  Heavy Traffic   \n",
       "3   2015-2016          1215511  Pre-K/EI    331            2          Other   \n",
       "4   2015-2016          1215828  Pre-K/EI    332            2          Other   \n",
       "\n",
       "  Schools_Serviced             Occurred_On              Created_On   Boro  \\\n",
       "0             C353  10/26/2015 08:30:00 AM  10/26/2015 08:40:00 AM  Bronx   \n",
       "1             C814  10/27/2015 07:10:00 AM  10/27/2015 07:11:00 AM  Bronx   \n",
       "2             C195  09/18/2015 07:36:00 AM  09/18/2015 07:38:00 AM  Bronx   \n",
       "3             C178  09/17/2015 08:08:00 AM  09/17/2015 08:12:00 AM  Bronx   \n",
       "4             S176  09/18/2015 07:39:00 AM  09/18/2015 07:45:00 AM  Bronx   \n",
       "\n",
       "   ... How_Long_Delayed Number_Of_Students_On_The_Bus  \\\n",
       "0  ...        10MINUTES                             5   \n",
       "1  ...       25 MINUTES                             3   \n",
       "2  ...       15 MINUTES                            12   \n",
       "3  ...       10 minutes                            11   \n",
       "4  ...        10MINUTES                            12   \n",
       "\n",
       "   Has_Contractor_Notified_Schools Has_Contractor_Notified_Parents  \\\n",
       "0                              Yes                             Yes   \n",
       "1                              Yes                             Yes   \n",
       "2                              Yes                             Yes   \n",
       "3                              Yes                             Yes   \n",
       "4                              Yes                             Yes   \n",
       "\n",
       "  Have_You_Alerted_OPT             Informed_On Incident_Number  \\\n",
       "0                   No  10/26/2015 08:40:00 AM             NaN   \n",
       "1                   No  10/27/2015 07:11:00 AM             NaN   \n",
       "2                  Yes  09/18/2015 07:38:00 AM             NaN   \n",
       "3                  Yes  09/17/2015 08:12:00 AM             NaN   \n",
       "4                   No  09/18/2015 07:45:00 AM             NaN   \n",
       "\n",
       "          Last_Updated_On Breakdown_or_Running_Late School_Age_or_PreK  \n",
       "0  10/26/2015 08:40:39 AM              Running Late              Pre-K  \n",
       "1  10/27/2015 07:11:22 AM              Running Late              Pre-K  \n",
       "2  09/18/2015 07:38:44 AM              Running Late              Pre-K  \n",
       "3  09/17/2015 08:12:08 AM              Running Late              Pre-K  \n",
       "4  09/18/2015 07:56:40 AM              Running Late              Pre-K  \n",
       "\n",
       "[5 rows x 21 columns]"
      ]
     },
     "execution_count": 2,
     "metadata": {},
     "output_type": "execute_result"
    }
   ],
   "source": [
    "df = pd.read_csv(\"D:\\Tuwaiq Academy\\Tuwaiq_Academy_T5_Week_5\\Weekly_Project\\Dataset\\Bus_Breakdown_and_Delays.csv\")\n",
    "df.head()"
   ]
  },
  {
   "cell_type": "markdown",
   "id": "71ccd4e2",
   "metadata": {},
   "source": [
    "## Exploratory Data Analysis (EDA)\n",
    "This could include:\n",
    "* **Inspect the dataset**\n",
    "\n",
    "* **Dataset structure**\n",
    "\n",
    "* **Summary statistics**\n",
    "\n",
    "* **Check for missing values**\n",
    "\n",
    "* **Distribution of features**\n",
    "\n",
    "* **Categorical feature analysis**\n",
    "\n",
    "* **Correlation matrix**\n",
    "\n",
    "* **Outlier detection**\n",
    "\n",
    "And add more as needed!"
   ]
  },
  {
   "cell_type": "code",
   "execution_count": 3,
   "id": "0b800b0c",
   "metadata": {},
   "outputs": [
    {
     "name": "stdout",
     "output_type": "stream",
     "text": [
      "<class 'pandas.core.frame.DataFrame'>\n",
      "RangeIndex: 147972 entries, 0 to 147971\n",
      "Data columns (total 21 columns):\n",
      " #   Column                           Non-Null Count   Dtype \n",
      "---  ------                           --------------   ----- \n",
      " 0   School_Year                      147972 non-null  object\n",
      " 1   Busbreakdown_ID                  147972 non-null  int64 \n",
      " 2   Run_Type                         147883 non-null  object\n",
      " 3   Bus_No                           147972 non-null  object\n",
      " 4   Route_Number                     147884 non-null  object\n",
      " 5   Reason                           147870 non-null  object\n",
      " 6   Schools_Serviced                 147972 non-null  object\n",
      " 7   Occurred_On                      147972 non-null  object\n",
      " 8   Created_On                       147972 non-null  object\n",
      " 9   Boro                             141654 non-null  object\n",
      " 10  Bus_Company_Name                 147972 non-null  object\n",
      " 11  How_Long_Delayed                 126342 non-null  object\n",
      " 12  Number_Of_Students_On_The_Bus    147972 non-null  int64 \n",
      " 13  Has_Contractor_Notified_Schools  147972 non-null  object\n",
      " 14  Has_Contractor_Notified_Parents  147972 non-null  object\n",
      " 15  Have_You_Alerted_OPT             147972 non-null  object\n",
      " 16  Informed_On                      147972 non-null  object\n",
      " 17  Incident_Number                  5632 non-null    object\n",
      " 18  Last_Updated_On                  147972 non-null  object\n",
      " 19  Breakdown_or_Running_Late        147972 non-null  object\n",
      " 20  School_Age_or_PreK               147972 non-null  object\n",
      "dtypes: int64(2), object(19)\n",
      "memory usage: 23.7+ MB\n"
     ]
    }
   ],
   "source": [
    "df.info()"
   ]
  },
  {
   "cell_type": "code",
   "execution_count": 4,
   "id": "e8e2fb29",
   "metadata": {},
   "outputs": [
    {
     "data": {
      "text/plain": [
       "0              NaN\n",
       "1              NaN\n",
       "2              NaN\n",
       "3              NaN\n",
       "4              NaN\n",
       "            ...   \n",
       "147967         NaN\n",
       "147968         NaN\n",
       "147969    90323827\n",
       "147970         NaN\n",
       "147971         NaN\n",
       "Name: Incident_Number, Length: 147972, dtype: object"
      ]
     },
     "execution_count": 4,
     "metadata": {},
     "output_type": "execute_result"
    }
   ],
   "source": [
    "df['Incident_Number']"
   ]
  },
  {
   "cell_type": "markdown",
   "id": "2e195adc",
   "metadata": {},
   "source": [
    "### what is the importance of the incident number ? I will drop it"
   ]
  },
  {
   "cell_type": "code",
   "execution_count": 5,
   "id": "c74fbfce",
   "metadata": {},
   "outputs": [
    {
     "data": {
      "text/plain": [
       "0         1224901\n",
       "1         1225098\n",
       "2         1215800\n",
       "3         1215511\n",
       "4         1215828\n",
       "           ...   \n",
       "147967    1338452\n",
       "147968    1341521\n",
       "147969    1353044\n",
       "147970    1353045\n",
       "147971    1353046\n",
       "Name: Busbreakdown_ID, Length: 147972, dtype: int64"
      ]
     },
     "execution_count": 5,
     "metadata": {},
     "output_type": "execute_result"
    }
   ],
   "source": [
    "df['Busbreakdown_ID']"
   ]
  },
  {
   "cell_type": "markdown",
   "id": "4a27470c",
   "metadata": {},
   "source": [
    "### I don't think we need the breakdown number"
   ]
  },
  {
   "cell_type": "code",
   "execution_count": 6,
   "id": "81c72199",
   "metadata": {},
   "outputs": [
    {
     "data": {
      "text/plain": [
       "0            Bronx\n",
       "1            Bronx\n",
       "2            Bronx\n",
       "3            Bronx\n",
       "4            Bronx\n",
       "            ...   \n",
       "147967       Bronx\n",
       "147968       Bronx\n",
       "147969       Bronx\n",
       "147970      Queens\n",
       "147971    Brooklyn\n",
       "Name: Boro, Length: 147972, dtype: object"
      ]
     },
     "execution_count": 6,
     "metadata": {},
     "output_type": "execute_result"
    }
   ],
   "source": [
    "df['Boro']"
   ]
  },
  {
   "cell_type": "markdown",
   "id": "774ad9c8",
   "metadata": {},
   "source": [
    "### this shows the district where the accident happend I should encode it "
   ]
  },
  {
   "cell_type": "code",
   "execution_count": 7,
   "id": "562ccbc0",
   "metadata": {},
   "outputs": [
    {
     "data": {
      "text/html": [
       "<div>\n",
       "<style scoped>\n",
       "    .dataframe tbody tr th:only-of-type {\n",
       "        vertical-align: middle;\n",
       "    }\n",
       "\n",
       "    .dataframe tbody tr th {\n",
       "        vertical-align: top;\n",
       "    }\n",
       "\n",
       "    .dataframe thead th {\n",
       "        text-align: right;\n",
       "    }\n",
       "</style>\n",
       "<table border=\"1\" class=\"dataframe\">\n",
       "  <thead>\n",
       "    <tr style=\"text-align: right;\">\n",
       "      <th></th>\n",
       "      <th>Busbreakdown_ID</th>\n",
       "      <th>Number_Of_Students_On_The_Bus</th>\n",
       "    </tr>\n",
       "  </thead>\n",
       "  <tbody>\n",
       "    <tr>\n",
       "      <th>count</th>\n",
       "      <td>1.479720e+05</td>\n",
       "      <td>147972.000000</td>\n",
       "    </tr>\n",
       "    <tr>\n",
       "      <th>mean</th>\n",
       "      <td>1.287779e+06</td>\n",
       "      <td>3.590071</td>\n",
       "    </tr>\n",
       "    <tr>\n",
       "      <th>std</th>\n",
       "      <td>4.324338e+04</td>\n",
       "      <td>55.365859</td>\n",
       "    </tr>\n",
       "    <tr>\n",
       "      <th>min</th>\n",
       "      <td>1.212681e+06</td>\n",
       "      <td>0.000000</td>\n",
       "    </tr>\n",
       "    <tr>\n",
       "      <th>25%</th>\n",
       "      <td>1.250438e+06</td>\n",
       "      <td>0.000000</td>\n",
       "    </tr>\n",
       "    <tr>\n",
       "      <th>50%</th>\n",
       "      <td>1.287844e+06</td>\n",
       "      <td>0.000000</td>\n",
       "    </tr>\n",
       "    <tr>\n",
       "      <th>75%</th>\n",
       "      <td>1.325191e+06</td>\n",
       "      <td>4.000000</td>\n",
       "    </tr>\n",
       "    <tr>\n",
       "      <th>max</th>\n",
       "      <td>1.362605e+06</td>\n",
       "      <td>9007.000000</td>\n",
       "    </tr>\n",
       "  </tbody>\n",
       "</table>\n",
       "</div>"
      ],
      "text/plain": [
       "       Busbreakdown_ID  Number_Of_Students_On_The_Bus\n",
       "count     1.479720e+05                  147972.000000\n",
       "mean      1.287779e+06                       3.590071\n",
       "std       4.324338e+04                      55.365859\n",
       "min       1.212681e+06                       0.000000\n",
       "25%       1.250438e+06                       0.000000\n",
       "50%       1.287844e+06                       0.000000\n",
       "75%       1.325191e+06                       4.000000\n",
       "max       1.362605e+06                    9007.000000"
      ]
     },
     "execution_count": 7,
     "metadata": {},
     "output_type": "execute_result"
    }
   ],
   "source": [
    "df.describe()"
   ]
  },
  {
   "cell_type": "code",
   "execution_count": 8,
   "id": "7d476219",
   "metadata": {},
   "outputs": [
    {
     "data": {
      "text/plain": [
       "School_Year                             0\n",
       "Busbreakdown_ID                         0\n",
       "Run_Type                               89\n",
       "Bus_No                                  0\n",
       "Route_Number                           88\n",
       "Reason                                102\n",
       "Schools_Serviced                        0\n",
       "Occurred_On                             0\n",
       "Created_On                              0\n",
       "Boro                                 6318\n",
       "Bus_Company_Name                        0\n",
       "How_Long_Delayed                    21630\n",
       "Number_Of_Students_On_The_Bus           0\n",
       "Has_Contractor_Notified_Schools         0\n",
       "Has_Contractor_Notified_Parents         0\n",
       "Have_You_Alerted_OPT                    0\n",
       "Informed_On                             0\n",
       "Incident_Number                    142340\n",
       "Last_Updated_On                         0\n",
       "Breakdown_or_Running_Late               0\n",
       "School_Age_or_PreK                      0\n",
       "dtype: int64"
      ]
     },
     "execution_count": 8,
     "metadata": {},
     "output_type": "execute_result"
    }
   ],
   "source": [
    "df.isna().sum()"
   ]
  },
  {
   "cell_type": "code",
   "execution_count": 9,
   "id": "53d07a7a",
   "metadata": {},
   "outputs": [
    {
     "data": {
      "text/plain": [
       "0          10MINUTES\n",
       "1         25 MINUTES\n",
       "2         15 MINUTES\n",
       "3         10 minutes\n",
       "4          10MINUTES\n",
       "             ...    \n",
       "147967         15-20\n",
       "147968       20 MINS\n",
       "147969     20-25MINS\n",
       "147970           NaN\n",
       "147971         45min\n",
       "Name: How_Long_Delayed, Length: 147972, dtype: object"
      ]
     },
     "execution_count": 9,
     "metadata": {},
     "output_type": "execute_result"
    }
   ],
   "source": [
    "df['How_Long_Delayed']"
   ]
  },
  {
   "cell_type": "markdown",
   "id": "93d1046c",
   "metadata": {},
   "source": [
    "### I think this is very importance we should fill the missing value with the most repeated value"
   ]
  },
  {
   "cell_type": "code",
   "execution_count": 10,
   "id": "fe00b127",
   "metadata": {},
   "outputs": [
    {
     "data": {
      "text/plain": [
       "(0                 Other\n",
       " 1         Heavy Traffic\n",
       " 2         Heavy Traffic\n",
       " 3                 Other\n",
       " 4                 Other\n",
       "               ...      \n",
       " 147967    Heavy Traffic\n",
       " 147968    Heavy Traffic\n",
       " 147969    Heavy Traffic\n",
       " 147970      Won`t Start\n",
       " 147971            Other\n",
       " Name: Reason, Length: 147972, dtype: object,\n",
       " 0            1\n",
       " 1            1\n",
       " 2            2\n",
       " 3            2\n",
       " 4            2\n",
       "           ... \n",
       " 147967       2\n",
       " 147968       5\n",
       " 147969    X928\n",
       " 147970    Q920\n",
       " 147971    K617\n",
       " Name: Route_Number, Length: 147972, dtype: object)"
      ]
     },
     "execution_count": 10,
     "metadata": {},
     "output_type": "execute_result"
    }
   ],
   "source": [
    "df['Reason'], df['Route_Number']"
   ]
  },
  {
   "cell_type": "code",
   "execution_count": 11,
   "id": "86742710",
   "metadata": {},
   "outputs": [
    {
     "data": {
      "text/plain": [
       "array(['Other', 'Heavy Traffic', 'Flat Tire', 'Mechanical Problem',\n",
       "       'Delayed by School', 'Problem Run', 'Late return from Field Trip',\n",
       "       'Won`t Start', 'Weather Conditions', 'Accident', nan], dtype=object)"
      ]
     },
     "execution_count": 11,
     "metadata": {},
     "output_type": "execute_result"
    }
   ],
   "source": [
    "df['Reason'].unique()"
   ]
  },
  {
   "cell_type": "markdown",
   "id": "375f5b74",
   "metadata": {},
   "source": [
    "### the reason and route number have very small number of missing values I will drop the rows "
   ]
  },
  {
   "cell_type": "code",
   "execution_count": 12,
   "id": "3449c3fe",
   "metadata": {},
   "outputs": [
    {
     "data": {
      "text/plain": [
       "array(['10MINUTES', '25 MINUTES', '15 MINUTES', ..., '40 -50 MIN',\n",
       "       '80 MIN', '45 MINIUTE'], dtype=object)"
      ]
     },
     "execution_count": 12,
     "metadata": {},
     "output_type": "execute_result"
    }
   ],
   "source": [
    "df['How_Long_Delayed'].unique()"
   ]
  },
  {
   "cell_type": "code",
   "execution_count": 13,
   "id": "4c9419a6",
   "metadata": {},
   "outputs": [
    {
     "data": {
      "text/plain": [
       "array(['Pre-K/EI', 'Special Ed AM Run', 'General Ed AM Run',\n",
       "       'Special Ed PM Run', 'General Ed PM Run', 'Special Ed Field Trip',\n",
       "       'General Ed Field Trip', nan, 'Project Read PM Run',\n",
       "       'Project Read AM Run', 'Project Read Field Trip'], dtype=object)"
      ]
     },
     "execution_count": 13,
     "metadata": {},
     "output_type": "execute_result"
    }
   ],
   "source": [
    "df['Run_Type'].unique()"
   ]
  },
  {
   "cell_type": "code",
   "execution_count": 14,
   "id": "bff7d7d8",
   "metadata": {},
   "outputs": [
    {
     "data": {
      "text/plain": [
       "array(['Running Late', 'Breakdown'], dtype=object)"
      ]
     },
     "execution_count": 14,
     "metadata": {},
     "output_type": "execute_result"
    }
   ],
   "source": [
    "df['Breakdown_or_Running_Late'].unique()"
   ]
  },
  {
   "cell_type": "markdown",
   "id": "9d176a1a",
   "metadata": {},
   "source": [
    "### this is also is very small number I will remove the rows"
   ]
  },
  {
   "cell_type": "code",
   "execution_count": 15,
   "id": "0027aee1",
   "metadata": {},
   "outputs": [
    {
     "data": {
      "text/plain": [
       "0"
      ]
     },
     "execution_count": 15,
     "metadata": {},
     "output_type": "execute_result"
    }
   ],
   "source": [
    "df.duplicated().sum()"
   ]
  },
  {
   "cell_type": "code",
   "execution_count": 16,
   "id": "ea3b49dc",
   "metadata": {},
   "outputs": [
    {
     "data": {
      "text/plain": [
       "Index(['School_Year', 'Busbreakdown_ID', 'Run_Type', 'Bus_No', 'Route_Number',\n",
       "       'Reason', 'Schools_Serviced', 'Occurred_On', 'Created_On', 'Boro',\n",
       "       'Bus_Company_Name', 'How_Long_Delayed', 'Number_Of_Students_On_The_Bus',\n",
       "       'Has_Contractor_Notified_Schools', 'Has_Contractor_Notified_Parents',\n",
       "       'Have_You_Alerted_OPT', 'Informed_On', 'Incident_Number',\n",
       "       'Last_Updated_On', 'Breakdown_or_Running_Late', 'School_Age_or_PreK'],\n",
       "      dtype='object')"
      ]
     },
     "execution_count": 16,
     "metadata": {},
     "output_type": "execute_result"
    }
   ],
   "source": [
    "df.columns"
   ]
  },
  {
   "cell_type": "code",
   "execution_count": 17,
   "id": "6a6362f5",
   "metadata": {},
   "outputs": [
    {
     "data": {
      "text/plain": [
       "<Axes: >"
      ]
     },
     "execution_count": 17,
     "metadata": {},
     "output_type": "execute_result"
    },
    {
     "data": {
      "image/png": "[encoded data removed]",
      "text/plain": [
       "<Figure size 640x480 with 1 Axes>"
      ]
     },
     "metadata": {},
     "output_type": "display_data"
    }
   ],
   "source": [
    "df.boxplot()"
   ]
  },
  {
   "cell_type": "code",
   "execution_count": 18,
   "id": "4f4b4970",
   "metadata": {},
   "outputs": [
    {
     "data": {
      "image/png": "[encoded data removed]",
      "text/plain": [
       "<Figure size 500x500 with 6 Axes>"
      ]
     },
     "metadata": {},
     "output_type": "display_data"
    }
   ],
   "source": [
    "sns.pairplot(df)\n",
    "plt.show()"
   ]
  },
  {
   "cell_type": "code",
   "execution_count": 19,
   "id": "982d3c59",
   "metadata": {},
   "outputs": [
    {
     "data": {
      "image/png": "[encoded data removed]",
      "text/plain": [
       "<Figure size 640x480 with 2 Axes>"
      ]
     },
     "metadata": {},
     "output_type": "display_data"
    }
   ],
   "source": [
    "df.hist()\n",
    "plt.show()"
   ]
  },
  {
   "cell_type": "code",
   "execution_count": 20,
   "id": "d3b4757a",
   "metadata": {},
   "outputs": [
    {
     "data": {
      "image/png": "[encoded data removed]",
      "text/plain": [
       "<Figure size 640x480 with 1 Axes>"
      ]
     },
     "metadata": {},
     "output_type": "display_data"
    }
   ],
   "source": [
    "sns.histplot(df)\n",
    "plt.show()"
   ]
  },
  {
   "cell_type": "code",
   "execution_count": 21,
   "id": "d24183fa",
   "metadata": {},
   "outputs": [
    {
     "data": {
      "text/plain": [
       "Index(['School_Year', 'Busbreakdown_ID', 'Run_Type', 'Bus_No', 'Route_Number',\n",
       "       'Reason', 'Schools_Serviced', 'Occurred_On', 'Created_On', 'Boro',\n",
       "       'Bus_Company_Name', 'How_Long_Delayed', 'Number_Of_Students_On_The_Bus',\n",
       "       'Has_Contractor_Notified_Schools', 'Has_Contractor_Notified_Parents',\n",
       "       'Have_You_Alerted_OPT', 'Informed_On', 'Incident_Number',\n",
       "       'Last_Updated_On', 'Breakdown_or_Running_Late', 'School_Age_or_PreK'],\n",
       "      dtype='object')"
      ]
     },
     "execution_count": 21,
     "metadata": {},
     "output_type": "execute_result"
    }
   ],
   "source": [
    "df.columns"
   ]
  },
  {
   "cell_type": "code",
   "execution_count": 22,
   "id": "55417a9c",
   "metadata": {},
   "outputs": [
    {
     "data": {
      "text/plain": [
       "(147972, 21)"
      ]
     },
     "execution_count": 22,
     "metadata": {},
     "output_type": "execute_result"
    }
   ],
   "source": [
    "df.shape"
   ]
  },
  {
   "cell_type": "code",
   "execution_count": 23,
   "id": "29a96f41",
   "metadata": {},
   "outputs": [
    {
     "data": {
      "text/plain": [
       "School_Year                        object\n",
       "Busbreakdown_ID                     int64\n",
       "Run_Type                           object\n",
       "Bus_No                             object\n",
       "Route_Number                       object\n",
       "Reason                             object\n",
       "Schools_Serviced                   object\n",
       "Occurred_On                        object\n",
       "Created_On                         object\n",
       "Boro                               object\n",
       "Bus_Company_Name                   object\n",
       "How_Long_Delayed                   object\n",
       "Number_Of_Students_On_The_Bus       int64\n",
       "Has_Contractor_Notified_Schools    object\n",
       "Has_Contractor_Notified_Parents    object\n",
       "Have_You_Alerted_OPT               object\n",
       "Informed_On                        object\n",
       "Incident_Number                    object\n",
       "Last_Updated_On                    object\n",
       "Breakdown_or_Running_Late          object\n",
       "School_Age_or_PreK                 object\n",
       "dtype: object"
      ]
     },
     "execution_count": 23,
     "metadata": {},
     "output_type": "execute_result"
    }
   ],
   "source": [
    "df.dtypes"
   ]
  },
  {
   "cell_type": "code",
   "execution_count": 24,
   "id": "28b15db8",
   "metadata": {},
   "outputs": [
    {
     "data": {
      "text/plain": [
       "count    147972.000000\n",
       "mean          3.590071\n",
       "std          55.365859\n",
       "min           0.000000\n",
       "25%           0.000000\n",
       "50%           0.000000\n",
       "75%           4.000000\n",
       "max        9007.000000\n",
       "Name: Number_Of_Students_On_The_Bus, dtype: float64"
      ]
     },
     "execution_count": 24,
     "metadata": {},
     "output_type": "execute_result"
    }
   ],
   "source": [
    "df['Number_Of_Students_On_The_Bus'].describe()"
   ]
  },
  {
   "cell_type": "code",
   "execution_count": 25,
   "id": "333de050",
   "metadata": {},
   "outputs": [
    {
     "data": {
      "text/html": [
       "<div>\n",
       "<style scoped>\n",
       "    .dataframe tbody tr th:only-of-type {\n",
       "        vertical-align: middle;\n",
       "    }\n",
       "\n",
       "    .dataframe tbody tr th {\n",
       "        vertical-align: top;\n",
       "    }\n",
       "\n",
       "    .dataframe thead tr th {\n",
       "        text-align: left;\n",
       "    }\n",
       "\n",
       "    .dataframe thead tr:last-of-type th {\n",
       "        text-align: right;\n",
       "    }\n",
       "</style>\n",
       "<table border=\"1\" class=\"dataframe\">\n",
       "  <thead>\n",
       "    <tr>\n",
       "      <th></th>\n",
       "      <th colspan=\"4\" halign=\"left\">Number_Of_Students_On_The_Bus</th>\n",
       "    </tr>\n",
       "    <tr>\n",
       "      <th></th>\n",
       "      <th>mean</th>\n",
       "      <th>max</th>\n",
       "      <th>min</th>\n",
       "      <th>count</th>\n",
       "    </tr>\n",
       "    <tr>\n",
       "      <th>Boro</th>\n",
       "      <th></th>\n",
       "      <th></th>\n",
       "      <th></th>\n",
       "      <th></th>\n",
       "    </tr>\n",
       "  </thead>\n",
       "  <tbody>\n",
       "    <tr>\n",
       "      <th>All Boroughs</th>\n",
       "      <td>2.025455</td>\n",
       "      <td>29</td>\n",
       "      <td>0</td>\n",
       "      <td>275</td>\n",
       "    </tr>\n",
       "    <tr>\n",
       "      <th>Bronx</th>\n",
       "      <td>3.937090</td>\n",
       "      <td>2327</td>\n",
       "      <td>0</td>\n",
       "      <td>40995</td>\n",
       "    </tr>\n",
       "    <tr>\n",
       "      <th>Brooklyn</th>\n",
       "      <td>3.681663</td>\n",
       "      <td>9007</td>\n",
       "      <td>0</td>\n",
       "      <td>35632</td>\n",
       "    </tr>\n",
       "    <tr>\n",
       "      <th>Connecticut</th>\n",
       "      <td>1.382353</td>\n",
       "      <td>8</td>\n",
       "      <td>0</td>\n",
       "      <td>102</td>\n",
       "    </tr>\n",
       "    <tr>\n",
       "      <th>Manhattan</th>\n",
       "      <td>4.342354</td>\n",
       "      <td>6209</td>\n",
       "      <td>0</td>\n",
       "      <td>28675</td>\n",
       "    </tr>\n",
       "    <tr>\n",
       "      <th>Nassau County</th>\n",
       "      <td>1.020812</td>\n",
       "      <td>30</td>\n",
       "      <td>0</td>\n",
       "      <td>1970</td>\n",
       "    </tr>\n",
       "    <tr>\n",
       "      <th>New Jersey</th>\n",
       "      <td>2.475761</td>\n",
       "      <td>25</td>\n",
       "      <td>0</td>\n",
       "      <td>887</td>\n",
       "    </tr>\n",
       "    <tr>\n",
       "      <th>Queens</th>\n",
       "      <td>3.235580</td>\n",
       "      <td>6219</td>\n",
       "      <td>0</td>\n",
       "      <td>21169</td>\n",
       "    </tr>\n",
       "    <tr>\n",
       "      <th>Rockland County</th>\n",
       "      <td>1.769857</td>\n",
       "      <td>8</td>\n",
       "      <td>0</td>\n",
       "      <td>491</td>\n",
       "    </tr>\n",
       "    <tr>\n",
       "      <th>Staten Island</th>\n",
       "      <td>1.003322</td>\n",
       "      <td>2680</td>\n",
       "      <td>0</td>\n",
       "      <td>6923</td>\n",
       "    </tr>\n",
       "    <tr>\n",
       "      <th>Westchester</th>\n",
       "      <td>3.133848</td>\n",
       "      <td>209</td>\n",
       "      <td>0</td>\n",
       "      <td>4535</td>\n",
       "    </tr>\n",
       "  </tbody>\n",
       "</table>\n",
       "</div>"
      ],
      "text/plain": [
       "                Number_Of_Students_On_The_Bus                 \n",
       "                                         mean   max min  count\n",
       "Boro                                                          \n",
       "All Boroughs                         2.025455    29   0    275\n",
       "Bronx                                3.937090  2327   0  40995\n",
       "Brooklyn                             3.681663  9007   0  35632\n",
       "Connecticut                          1.382353     8   0    102\n",
       "Manhattan                            4.342354  6209   0  28675\n",
       "Nassau County                        1.020812    30   0   1970\n",
       "New Jersey                           2.475761    25   0    887\n",
       "Queens                               3.235580  6219   0  21169\n",
       "Rockland County                      1.769857     8   0    491\n",
       "Staten Island                        1.003322  2680   0   6923\n",
       "Westchester                          3.133848   209   0   4535"
      ]
     },
     "execution_count": 25,
     "metadata": {},
     "output_type": "execute_result"
    }
   ],
   "source": [
    "df.groupby('Boro').agg({'Number_Of_Students_On_The_Bus' : ['mean', 'max', 'min', 'count']})"
   ]
  },
  {
   "cell_type": "markdown",
   "id": "1a559e40",
   "metadata": {},
   "source": [
    "## Data Preprocessing\n",
    "This could include:\n",
    "\n",
    "* **Handle Missing Values**\n",
    "    * Impute missing values or drop them.\n",
    "\n",
    "* **Encode Categorical Variables**\n",
    "    * One-hot encoding\n",
    "    * Label encoding\n",
    "\n",
    "* **Scale and Normalize Data**\n",
    "    * Standardization (Z-score)\n",
    "    * Min-Max scaling\n",
    "\n",
    "* **Feature Engineering**\n",
    "    * Create new features\n",
    "    * Feature selection\n",
    "\n",
    "* **Handle Imbalanced Data**\n",
    "    * Oversampling\n",
    "    * Undersampling\n",
    "\n",
    "* **Handle Outliers**\n",
    "    * Remove outliers\n",
    "    * Transform outliers\n",
    "\n",
    "* **Remove Duplicates**\n",
    "    * Remove redundant or duplicate data\n",
    "\n",
    "\n",
    "And add more as needed!\n",
    "\n",
    "Please treat these as suggestions. Feel free to use your judgment for the rest."
   ]
  },
  {
   "cell_type": "code",
   "execution_count": 26,
   "id": "e6867a7c",
   "metadata": {},
   "outputs": [
    {
     "data": {
      "text/plain": [
       "Index(['School_Year', 'Run_Type', 'Bus_No', 'Route_Number', 'Reason',\n",
       "       'Schools_Serviced', 'Occurred_On', 'Created_On', 'Boro',\n",
       "       'Bus_Company_Name', 'How_Long_Delayed', 'Number_Of_Students_On_The_Bus',\n",
       "       'Has_Contractor_Notified_Schools', 'Has_Contractor_Notified_Parents',\n",
       "       'Have_You_Alerted_OPT', 'Informed_On', 'Last_Updated_On',\n",
       "       'Breakdown_or_Running_Late', 'School_Age_or_PreK'],\n",
       "      dtype='object')"
      ]
     },
     "execution_count": 26,
     "metadata": {},
     "output_type": "execute_result"
    }
   ],
   "source": [
    "df.drop(['Busbreakdown_ID', 'Incident_Number'], axis=1, inplace=True)\n",
    "df.columns"
   ]
  },
  {
   "cell_type": "code",
   "execution_count": 27,
   "id": "f764cdc0",
   "metadata": {},
   "outputs": [
    {
     "data": {
      "text/plain": [
       "School_Year                            0\n",
       "Run_Type                              89\n",
       "Bus_No                                 0\n",
       "Route_Number                          88\n",
       "Reason                               102\n",
       "Schools_Serviced                       0\n",
       "Occurred_On                            0\n",
       "Created_On                             0\n",
       "Boro                                6318\n",
       "Bus_Company_Name                       0\n",
       "How_Long_Delayed                   21630\n",
       "Number_Of_Students_On_The_Bus          0\n",
       "Has_Contractor_Notified_Schools        0\n",
       "Has_Contractor_Notified_Parents        0\n",
       "Have_You_Alerted_OPT                   0\n",
       "Informed_On                            0\n",
       "Last_Updated_On                        0\n",
       "Breakdown_or_Running_Late              0\n",
       "School_Age_or_PreK                     0\n",
       "dtype: int64"
      ]
     },
     "execution_count": 27,
     "metadata": {},
     "output_type": "execute_result"
    }
   ],
   "source": [
    "df.isna().sum()"
   ]
  },
  {
   "cell_type": "code",
   "execution_count": 28,
   "id": "ab8b6125",
   "metadata": {},
   "outputs": [
    {
     "name": "stderr",
     "output_type": "stream",
     "text": [
      "C:\\Users\\abo_O\\AppData\\Local\\Temp\\ipykernel_24164\\323553688.py:1: FutureWarning: A value is trying to be set on a copy of a DataFrame or Series through chained assignment using an inplace method.\n",
      "The behavior will change in pandas 3.0. This inplace method will never work because the intermediate object on which we are setting values always behaves as a copy.\n",
      "\n",
      "For example, when doing 'df[col].method(value, inplace=True)', try using 'df.method({col: value}, inplace=True)' or df[col] = df[col].method(value) instead, to perform the operation inplace on the original object.\n",
      "\n",
      "\n",
      "  df['How_Long_Delayed'].fillna(df['How_Long_Delayed'].mode()[0], inplace=True)\n"
     ]
    },
    {
     "data": {
      "text/plain": [
       "0"
      ]
     },
     "execution_count": 28,
     "metadata": {},
     "output_type": "execute_result"
    }
   ],
   "source": [
    "df['How_Long_Delayed'].fillna(df['How_Long_Delayed'].mode()[0], inplace=True)\n",
    "df['How_Long_Delayed'].isna().sum()"
   ]
  },
  {
   "cell_type": "code",
   "execution_count": 29,
   "id": "998aa34c",
   "metadata": {},
   "outputs": [
    {
     "name": "stderr",
     "output_type": "stream",
     "text": [
      "C:\\Users\\abo_O\\AppData\\Local\\Temp\\ipykernel_24164\\1409848173.py:1: FutureWarning: A value is trying to be set on a copy of a DataFrame or Series through chained assignment using an inplace method.\n",
      "The behavior will change in pandas 3.0. This inplace method will never work because the intermediate object on which we are setting values always behaves as a copy.\n",
      "\n",
      "For example, when doing 'df[col].method(value, inplace=True)', try using 'df.method({col: value}, inplace=True)' or df[col] = df[col].method(value) instead, to perform the operation inplace on the original object.\n",
      "\n",
      "\n",
      "  df['Boro'].fillna(df['Boro'].mode()[0], inplace=True)\n"
     ]
    },
    {
     "data": {
      "text/plain": [
       "0"
      ]
     },
     "execution_count": 29,
     "metadata": {},
     "output_type": "execute_result"
    }
   ],
   "source": [
    "df['Boro'].fillna(df['Boro'].mode()[0], inplace=True)\n",
    "df['Boro'].isna().sum()"
   ]
  },
  {
   "cell_type": "code",
   "execution_count": 30,
   "id": "7ec71653",
   "metadata": {},
   "outputs": [
    {
     "data": {
      "text/plain": [
       "School_Year                          0\n",
       "Run_Type                            89\n",
       "Bus_No                               0\n",
       "Route_Number                        88\n",
       "Reason                             102\n",
       "Schools_Serviced                     0\n",
       "Occurred_On                          0\n",
       "Created_On                           0\n",
       "Boro                                 0\n",
       "Bus_Company_Name                     0\n",
       "How_Long_Delayed                     0\n",
       "Number_Of_Students_On_The_Bus        0\n",
       "Has_Contractor_Notified_Schools      0\n",
       "Has_Contractor_Notified_Parents      0\n",
       "Have_You_Alerted_OPT                 0\n",
       "Informed_On                          0\n",
       "Last_Updated_On                      0\n",
       "Breakdown_or_Running_Late            0\n",
       "School_Age_or_PreK                   0\n",
       "dtype: int64"
      ]
     },
     "execution_count": 30,
     "metadata": {},
     "output_type": "execute_result"
    }
   ],
   "source": [
    "df.isna().sum()"
   ]
  },
  {
   "cell_type": "code",
   "execution_count": 31,
   "id": "b53d51ea",
   "metadata": {},
   "outputs": [
    {
     "data": {
      "text/plain": [
       "School_Year                        0\n",
       "Run_Type                           0\n",
       "Bus_No                             0\n",
       "Route_Number                       0\n",
       "Reason                             0\n",
       "Schools_Serviced                   0\n",
       "Occurred_On                        0\n",
       "Created_On                         0\n",
       "Boro                               0\n",
       "Bus_Company_Name                   0\n",
       "How_Long_Delayed                   0\n",
       "Number_Of_Students_On_The_Bus      0\n",
       "Has_Contractor_Notified_Schools    0\n",
       "Has_Contractor_Notified_Parents    0\n",
       "Have_You_Alerted_OPT               0\n",
       "Informed_On                        0\n",
       "Last_Updated_On                    0\n",
       "Breakdown_or_Running_Late          0\n",
       "School_Age_or_PreK                 0\n",
       "dtype: int64"
      ]
     },
     "execution_count": 31,
     "metadata": {},
     "output_type": "execute_result"
    }
   ],
   "source": [
    "df.dropna(inplace=True)\n",
    "df.isna().sum()"
   ]
  },
  {
   "cell_type": "code",
   "execution_count": 32,
   "id": "fe5e90d6",
   "metadata": {},
   "outputs": [
    {
     "data": {
      "text/plain": [
       "School_Year                        object\n",
       "Run_Type                           object\n",
       "Bus_No                             object\n",
       "Route_Number                       object\n",
       "Reason                             object\n",
       "Schools_Serviced                   object\n",
       "Occurred_On                        object\n",
       "Created_On                         object\n",
       "Boro                               object\n",
       "Bus_Company_Name                   object\n",
       "How_Long_Delayed                   object\n",
       "Number_Of_Students_On_The_Bus       int64\n",
       "Has_Contractor_Notified_Schools    object\n",
       "Has_Contractor_Notified_Parents    object\n",
       "Have_You_Alerted_OPT               object\n",
       "Informed_On                        object\n",
       "Last_Updated_On                    object\n",
       "Breakdown_or_Running_Late          object\n",
       "School_Age_or_PreK                 object\n",
       "dtype: object"
      ]
     },
     "execution_count": 32,
     "metadata": {},
     "output_type": "execute_result"
    }
   ],
   "source": [
    "df.dtypes"
   ]
  },
  {
   "cell_type": "code",
   "execution_count": 33,
   "id": "e98de8ff",
   "metadata": {},
   "outputs": [
    {
     "data": {
      "text/plain": [
       "(       School_Year             Run_Type  Bus_No Route_Number         Reason  \\\n",
       " 0        2015-2016             Pre-K/EI     811            1          Other   \n",
       " 1        2015-2016             Pre-K/EI    9302            1  Heavy Traffic   \n",
       " 2        2015-2016             Pre-K/EI     358            2  Heavy Traffic   \n",
       " 3        2015-2016             Pre-K/EI     331            2          Other   \n",
       " 4        2015-2016             Pre-K/EI     332            2          Other   \n",
       " ...            ...                  ...     ...          ...            ...   \n",
       " 147967   2016-2017             Pre-K/EI    9345            2  Heavy Traffic   \n",
       " 147968   2016-2017             Pre-K/EI    0001            5  Heavy Traffic   \n",
       " 147969   2016-2017    Special Ed PM Run  GC0112         X928  Heavy Traffic   \n",
       " 147970   2016-2017    Special Ed PM Run   5525D         Q920    Won`t Start   \n",
       " 147971   2016-2017  Project Read PM Run    2530         K617          Other   \n",
       " \n",
       "        Schools_Serviced             Occurred_On              Created_On  \\\n",
       " 0                  C353  10/26/2015 08:30:00 AM  10/26/2015 08:40:00 AM   \n",
       " 1                  C814  10/27/2015 07:10:00 AM  10/27/2015 07:11:00 AM   \n",
       " 2                  C195  09/18/2015 07:36:00 AM  09/18/2015 07:38:00 AM   \n",
       " 3                  C178  09/17/2015 08:08:00 AM  09/17/2015 08:12:00 AM   \n",
       " 4                  S176  09/18/2015 07:39:00 AM  09/18/2015 07:45:00 AM   \n",
       " ...                 ...                     ...                     ...   \n",
       " 147967             C530  04/05/2017 08:00:00 AM  04/05/2017 08:10:00 AM   \n",
       " 147968             C579  04/24/2017 07:42:00 AM  04/24/2017 07:44:00 AM   \n",
       " 147969            09003  05/25/2017 04:22:00 PM  05/25/2017 04:28:00 PM   \n",
       " 147970            24457  05/25/2017 04:27:00 PM  05/25/2017 04:30:00 PM   \n",
       " 147971            21436  05/25/2017 04:36:00 PM  05/25/2017 04:37:00 PM   \n",
       " \n",
       "             Boro           Bus_Company_Name How_Long_Delayed  \\\n",
       " 0          Bronx               G.V.C., LTD.        10MINUTES   \n",
       " 1          Bronx               G.V.C., LTD.       25 MINUTES   \n",
       " 2          Bronx               G.V.C., LTD.       15 MINUTES   \n",
       " 3          Bronx               G.V.C., LTD.       10 minutes   \n",
       " 4          Bronx               G.V.C., LTD.        10MINUTES   \n",
       " ...          ...                        ...              ...   \n",
       " 147967     Bronx               G.V.C., LTD.            15-20   \n",
       " 147968     Bronx               G.V.C., LTD.          20 MINS   \n",
       " 147969     Bronx        G.V.C. LTD. (B2192)        20-25MINS   \n",
       " 147970    Queens  LITTLE RICHIE BUS SERVICE          20 MINS   \n",
       " 147971  Brooklyn  RELIANT TRANS, INC. (B232            45min   \n",
       " \n",
       "        Has_Contractor_Notified_Schools Has_Contractor_Notified_Parents  \\\n",
       " 0                                  Yes                             Yes   \n",
       " 1                                  Yes                             Yes   \n",
       " 2                                  Yes                             Yes   \n",
       " 3                                  Yes                             Yes   \n",
       " 4                                  Yes                             Yes   \n",
       " ...                                ...                             ...   \n",
       " 147967                             Yes                             Yes   \n",
       " 147968                             Yes                             Yes   \n",
       " 147969                             Yes                             Yes   \n",
       " 147970                             Yes                             Yes   \n",
       " 147971                             Yes                             Yes   \n",
       " \n",
       "        Have_You_Alerted_OPT             Informed_On         Last_Updated_On  \\\n",
       " 0                        No  10/26/2015 08:40:00 AM  10/26/2015 08:40:39 AM   \n",
       " 1                        No  10/27/2015 07:11:00 AM  10/27/2015 07:11:22 AM   \n",
       " 2                       Yes  09/18/2015 07:38:00 AM  09/18/2015 07:38:44 AM   \n",
       " 3                       Yes  09/17/2015 08:12:00 AM  09/17/2015 08:12:08 AM   \n",
       " 4                        No  09/18/2015 07:45:00 AM  09/18/2015 07:56:40 AM   \n",
       " ...                     ...                     ...                     ...   \n",
       " 147967                   No  04/05/2017 08:10:00 AM  04/05/2017 08:10:15 AM   \n",
       " 147968                   No  04/24/2017 07:44:00 AM  04/24/2017 07:44:15 AM   \n",
       " 147969                  Yes  05/25/2017 04:28:00 PM  05/25/2017 04:34:36 PM   \n",
       " 147970                   No  05/25/2017 04:30:00 PM  05/25/2017 04:30:07 PM   \n",
       " 147971                  Yes  05/25/2017 04:37:00 PM  05/25/2017 04:37:37 PM   \n",
       " \n",
       "        Breakdown_or_Running_Late School_Age_or_PreK  \n",
       " 0                   Running Late              Pre-K  \n",
       " 1                   Running Late              Pre-K  \n",
       " 2                   Running Late              Pre-K  \n",
       " 3                   Running Late              Pre-K  \n",
       " 4                   Running Late              Pre-K  \n",
       " ...                          ...                ...  \n",
       " 147967              Running Late              Pre-K  \n",
       " 147968              Running Late              Pre-K  \n",
       " 147969              Running Late         School-Age  \n",
       " 147970                 Breakdown         School-Age  \n",
       " 147971              Running Late         School-Age  \n",
       " \n",
       " [147693 rows x 18 columns],\n",
       "         Number_Of_Students_On_The_Bus\n",
       " 0                                   5\n",
       " 1                                   3\n",
       " 2                                  12\n",
       " 3                                  11\n",
       " 4                                  12\n",
       " ...                               ...\n",
       " 147967                              7\n",
       " 147968                              0\n",
       " 147969                              0\n",
       " 147970                              0\n",
       " 147971                              7\n",
       " \n",
       " [147693 rows x 1 columns])"
      ]
     },
     "execution_count": 33,
     "metadata": {},
     "output_type": "execute_result"
    }
   ],
   "source": [
    "cat_col = df.select_dtypes(exclude=['int64'])\n",
    "num_col = df.select_dtypes(exclude='object')\n",
    "cat_col, num_col"
   ]
  },
  {
   "cell_type": "code",
   "execution_count": 34,
   "id": "da7261ce",
   "metadata": {},
   "outputs": [
    {
     "data": {
      "text/plain": [
       "School_Year                        int32\n",
       "Run_Type                           int32\n",
       "Bus_No                             int32\n",
       "Route_Number                       int32\n",
       "Reason                             int32\n",
       "Schools_Serviced                   int32\n",
       "Occurred_On                        int32\n",
       "Created_On                         int32\n",
       "Boro                               int32\n",
       "Bus_Company_Name                   int32\n",
       "How_Long_Delayed                   int32\n",
       "Number_Of_Students_On_The_Bus      int64\n",
       "Has_Contractor_Notified_Schools    int32\n",
       "Has_Contractor_Notified_Parents    int32\n",
       "Have_You_Alerted_OPT               int32\n",
       "Informed_On                        int32\n",
       "Last_Updated_On                    int32\n",
       "Breakdown_or_Running_Late          int32\n",
       "School_Age_or_PreK                 int32\n",
       "dtype: object"
      ]
     },
     "execution_count": 34,
     "metadata": {},
     "output_type": "execute_result"
    }
   ],
   "source": [
    "en = LabelEncoder()\n",
    "\n",
    "for col in cat_col:\n",
    "    df[col] = en.fit_transform(df[col])\n",
    "\n",
    "df.dtypes"
   ]
  },
  {
   "cell_type": "code",
   "execution_count": 35,
   "id": "bd8bc0f4",
   "metadata": {},
   "outputs": [
    {
     "data": {
      "text/plain": [
       "Reason\n",
       "3    87326\n",
       "6    21640\n",
       "5    13894\n",
       "9     7263\n",
       "2     4575\n",
       "8     4526\n",
       "4     3462\n",
       "7     2201\n",
       "1     1443\n",
       "0     1363\n",
       "Name: count, dtype: int64"
      ]
     },
     "execution_count": 35,
     "metadata": {},
     "output_type": "execute_result"
    }
   ],
   "source": [
    "df['Reason'].value_counts()"
   ]
  },
  {
   "cell_type": "markdown",
   "id": "bc887660",
   "metadata": {},
   "source": [
    "## Split the Dataset\n",
    "Next, split the dataset into training, validation, and testing sets."
   ]
  },
  {
   "cell_type": "code",
   "execution_count": 36,
   "id": "95c7c3b9",
   "metadata": {},
   "outputs": [
    {
     "data": {
      "text/plain": [
       "Index(['School_Year', 'Run_Type', 'Bus_No', 'Route_Number', 'Reason',\n",
       "       'Schools_Serviced', 'Occurred_On', 'Created_On', 'Boro',\n",
       "       'Bus_Company_Name', 'How_Long_Delayed', 'Number_Of_Students_On_The_Bus',\n",
       "       'Has_Contractor_Notified_Schools', 'Has_Contractor_Notified_Parents',\n",
       "       'Have_You_Alerted_OPT', 'Informed_On', 'Last_Updated_On',\n",
       "       'Breakdown_or_Running_Late', 'School_Age_or_PreK'],\n",
       "      dtype='object')"
      ]
     },
     "execution_count": 36,
     "metadata": {},
     "output_type": "execute_result"
    }
   ],
   "source": [
    "df.columns"
   ]
  },
  {
   "cell_type": "code",
   "execution_count": 45,
   "id": "fa5bbfd5",
   "metadata": {},
   "outputs": [
    {
     "data": {
      "text/plain": [
       "((147693, 18), (147693,))"
      ]
     },
     "execution_count": 45,
     "metadata": {},
     "output_type": "execute_result"
    }
   ],
   "source": [
    "X = df.drop('Breakdown_or_Running_Late', axis=1)\n",
    "y = df['Breakdown_or_Running_Late']\n",
    "X.shape, y.shape"
   ]
  },
  {
   "cell_type": "code",
   "execution_count": 46,
   "id": "88a576bf",
   "metadata": {},
   "outputs": [
    {
     "data": {
      "text/plain": [
       "((103385, 18), (44308, 18), (103385,), (44308,))"
      ]
     },
     "execution_count": 46,
     "metadata": {},
     "output_type": "execute_result"
    }
   ],
   "source": [
    "X_train, X_test, y_train, y_test = train_test_split(X, y, test_size=0.3, random_state=42)\n",
    "X_train.shape, X_test.shape, y_train.shape, y_test.shape"
   ]
  },
  {
   "cell_type": "code",
   "execution_count": 47,
   "id": "07efc46b",
   "metadata": {},
   "outputs": [
    {
     "data": {
      "text/plain": [
       "((103385, 18), (44308, 18))"
      ]
     },
     "execution_count": 47,
     "metadata": {},
     "output_type": "execute_result"
    }
   ],
   "source": [
    "scaler = StandardScaler()\n",
    "scaler.fit_transform(X_train)\n",
    "scaler.transform(X_test)\n",
    "\n",
    "X_train.shape, X_test.shape"
   ]
  },
  {
   "cell_type": "markdown",
   "id": "7119b7d7",
   "metadata": {},
   "source": [
    "## Building the ANN Model\n",
    "In this section, define the architecture of the ANN by specifying the number of layers, neurons, and activation functions."
   ]
  },
  {
   "cell_type": "code",
   "execution_count": 70,
   "id": "8532b3b9",
   "metadata": {},
   "outputs": [
    {
     "name": "stderr",
     "output_type": "stream",
     "text": [
      "C:\\Users\\abo_O\\AppData\\Local\\Packages\\PythonSoftwareFoundation.Python.3.11_qbz5n2kfra8p0\\LocalCache\\local-packages\\Python311\\site-packages\\keras\\src\\layers\\core\\dense.py:87: UserWarning: Do not pass an `input_shape`/`input_dim` argument to a layer. When using Sequential models, prefer using an `Input(shape)` object as the first layer in the model instead.\n",
      "  super().__init__(activity_regularizer=activity_regularizer, **kwargs)\n"
     ]
    }
   ],
   "source": [
    "from keras import layers, models, regularizers\n",
    "from tensorflow.keras.callbacks import EarlyStopping\n",
    "\n",
    "model = Sequential([\n",
    "    layers.Dense(units=9, input_dim=X_train.shape[1], kernel_initializer='uniform', activation='relu'),\n",
    "    layers.Dropout(0.2),\n",
    "    layers.Dense(units=8, activation='relu'),\n",
    "    layers.Dense(units=8, activation='relu'),\n",
    "    layers.Dense(units=1, activation='sigmoid')\n",
    "])"
   ]
  },
  {
   "cell_type": "markdown",
   "id": "ac5e52e1",
   "metadata": {},
   "source": [
    "## Compile the Model\n",
    "Compile the ANN model by defining the optimizer, loss function, and evaluation metrics."
   ]
  },
  {
   "cell_type": "code",
   "execution_count": 71,
   "id": "ab363be3",
   "metadata": {},
   "outputs": [],
   "source": [
    "model.compile(optimizer='adam', loss='binary_crossentropy', metrics=['accuracy'])"
   ]
  },
  {
   "cell_type": "code",
   "execution_count": 72,
   "id": "ebcad8d3",
   "metadata": {},
   "outputs": [
    {
     "data": {
      "text/html": [
       "<pre style=\"white-space:pre;overflow-x:auto;line-height:normal;font-family:Menlo,'DejaVu Sans Mono',consolas,'Courier New',monospace\"><span style=\"font-weight: bold\">Model: \"sequential_3\"</span>\n",
       "</pre>\n"
      ],
      "text/plain": [
       "\u001b[1mModel: \"sequential_3\"\u001b[0m\n"
      ]
     },
     "metadata": {},
     "output_type": "display_data"
    },
    {
     "data": {
      "text/html": [
       "<pre style=\"white-space:pre;overflow-x:auto;line-height:normal;font-family:Menlo,'DejaVu Sans Mono',consolas,'Courier New',monospace\">┏━━━━━━━━━━━━━━━━━━━━━━━━━━━━━━━━━┳━━━━━━━━━━━━━━━━━━━━━━━━┳━━━━━━━━━━━━━━━┓\n",
       "┃<span style=\"font-weight: bold\"> Layer (type)                    </span>┃<span style=\"font-weight: bold\"> Output Shape           </span>┃<span style=\"font-weight: bold\">       Param # </span>┃\n",
       "┡━━━━━━━━━━━━━━━━━━━━━━━━━━━━━━━━━╇━━━━━━━━━━━━━━━━━━━━━━━━╇━━━━━━━━━━━━━━━┩\n",
       "│ dense_16 (<span style=\"color: #0087ff; text-decoration-color: #0087ff\">Dense</span>)                │ (<span style=\"color: #00d7ff; text-decoration-color: #00d7ff\">None</span>, <span style=\"color: #00af00; text-decoration-color: #00af00\">9</span>)              │           <span style=\"color: #00af00; text-decoration-color: #00af00\">171</span> │\n",
       "├─────────────────────────────────┼────────────────────────┼───────────────┤\n",
       "│ dropout_2 (<span style=\"color: #0087ff; text-decoration-color: #0087ff\">Dropout</span>)             │ (<span style=\"color: #00d7ff; text-decoration-color: #00d7ff\">None</span>, <span style=\"color: #00af00; text-decoration-color: #00af00\">9</span>)              │             <span style=\"color: #00af00; text-decoration-color: #00af00\">0</span> │\n",
       "├─────────────────────────────────┼────────────────────────┼───────────────┤\n",
       "│ dense_17 (<span style=\"color: #0087ff; text-decoration-color: #0087ff\">Dense</span>)                │ (<span style=\"color: #00d7ff; text-decoration-color: #00d7ff\">None</span>, <span style=\"color: #00af00; text-decoration-color: #00af00\">8</span>)              │            <span style=\"color: #00af00; text-decoration-color: #00af00\">80</span> │\n",
       "├─────────────────────────────────┼────────────────────────┼───────────────┤\n",
       "│ dense_18 (<span style=\"color: #0087ff; text-decoration-color: #0087ff\">Dense</span>)                │ (<span style=\"color: #00d7ff; text-decoration-color: #00d7ff\">None</span>, <span style=\"color: #00af00; text-decoration-color: #00af00\">8</span>)              │            <span style=\"color: #00af00; text-decoration-color: #00af00\">72</span> │\n",
       "├─────────────────────────────────┼────────────────────────┼───────────────┤\n",
       "│ dense_19 (<span style=\"color: #0087ff; text-decoration-color: #0087ff\">Dense</span>)                │ (<span style=\"color: #00d7ff; text-decoration-color: #00d7ff\">None</span>, <span style=\"color: #00af00; text-decoration-color: #00af00\">1</span>)              │             <span style=\"color: #00af00; text-decoration-color: #00af00\">9</span> │\n",
       "└─────────────────────────────────┴────────────────────────┴───────────────┘\n",
       "</pre>\n"
      ],
      "text/plain": [
       "┏━━━━━━━━━━━━━━━━━━━━━━━━━━━━━━━━━┳━━━━━━━━━━━━━━━━━━━━━━━━┳━━━━━━━━━━━━━━━┓\n",
       "┃\u001b[1m \u001b[0m\u001b[1mLayer (type)                   \u001b[0m\u001b[1m \u001b[0m┃\u001b[1m \u001b[0m\u001b[1mOutput Shape          \u001b[0m\u001b[1m \u001b[0m┃\u001b[1m \u001b[0m\u001b[1m      Param #\u001b[0m\u001b[1m \u001b[0m┃\n",
       "┡━━━━━━━━━━━━━━━━━━━━━━━━━━━━━━━━━╇━━━━━━━━━━━━━━━━━━━━━━━━╇━━━━━━━━━━━━━━━┩\n",
       "│ dense_16 (\u001b[38;5;33mDense\u001b[0m)                │ (\u001b[38;5;45mNone\u001b[0m, \u001b[38;5;34m9\u001b[0m)              │           \u001b[38;5;34m171\u001b[0m │\n",
       "├─────────────────────────────────┼────────────────────────┼───────────────┤\n",
       "│ dropout_2 (\u001b[38;5;33mDropout\u001b[0m)             │ (\u001b[38;5;45mNone\u001b[0m, \u001b[38;5;34m9\u001b[0m)              │             \u001b[38;5;34m0\u001b[0m │\n",
       "├─────────────────────────────────┼────────────────────────┼───────────────┤\n",
       "│ dense_17 (\u001b[38;5;33mDense\u001b[0m)                │ (\u001b[38;5;45mNone\u001b[0m, \u001b[38;5;34m8\u001b[0m)              │            \u001b[38;5;34m80\u001b[0m │\n",
       "├─────────────────────────────────┼────────────────────────┼───────────────┤\n",
       "│ dense_18 (\u001b[38;5;33mDense\u001b[0m)                │ (\u001b[38;5;45mNone\u001b[0m, \u001b[38;5;34m8\u001b[0m)              │            \u001b[38;5;34m72\u001b[0m │\n",
       "├─────────────────────────────────┼────────────────────────┼───────────────┤\n",
       "│ dense_19 (\u001b[38;5;33mDense\u001b[0m)                │ (\u001b[38;5;45mNone\u001b[0m, \u001b[38;5;34m1\u001b[0m)              │             \u001b[38;5;34m9\u001b[0m │\n",
       "└─────────────────────────────────┴────────────────────────┴───────────────┘\n"
      ]
     },
     "metadata": {},
     "output_type": "display_data"
    },
    {
     "data": {
      "text/html": [
       "<pre style=\"white-space:pre;overflow-x:auto;line-height:normal;font-family:Menlo,'DejaVu Sans Mono',consolas,'Courier New',monospace\"><span style=\"font-weight: bold\"> Total params: </span><span style=\"color: #00af00; text-decoration-color: #00af00\">332</span> (1.30 KB)\n",
       "</pre>\n"
      ],
      "text/plain": [
       "\u001b[1m Total params: \u001b[0m\u001b[38;5;34m332\u001b[0m (1.30 KB)\n"
      ]
     },
     "metadata": {},
     "output_type": "display_data"
    },
    {
     "data": {
      "text/html": [
       "<pre style=\"white-space:pre;overflow-x:auto;line-height:normal;font-family:Menlo,'DejaVu Sans Mono',consolas,'Courier New',monospace\"><span style=\"font-weight: bold\"> Trainable params: </span><span style=\"color: #00af00; text-decoration-color: #00af00\">332</span> (1.30 KB)\n",
       "</pre>\n"
      ],
      "text/plain": [
       "\u001b[1m Trainable params: \u001b[0m\u001b[38;5;34m332\u001b[0m (1.30 KB)\n"
      ]
     },
     "metadata": {},
     "output_type": "display_data"
    },
    {
     "data": {
      "text/html": [
       "<pre style=\"white-space:pre;overflow-x:auto;line-height:normal;font-family:Menlo,'DejaVu Sans Mono',consolas,'Courier New',monospace\"><span style=\"font-weight: bold\"> Non-trainable params: </span><span style=\"color: #00af00; text-decoration-color: #00af00\">0</span> (0.00 B)\n",
       "</pre>\n"
      ],
      "text/plain": [
       "\u001b[1m Non-trainable params: \u001b[0m\u001b[38;5;34m0\u001b[0m (0.00 B)\n"
      ]
     },
     "metadata": {},
     "output_type": "display_data"
    }
   ],
   "source": [
    "model.summary()"
   ]
  },
  {
   "cell_type": "markdown",
   "id": "e9a72223",
   "metadata": {},
   "source": [
    "## Training the Model\n",
    "Train the ANN model using the training data."
   ]
  },
  {
   "cell_type": "code",
   "execution_count": 73,
   "id": "e43fedab",
   "metadata": {},
   "outputs": [
    {
     "name": "stdout",
     "output_type": "stream",
     "text": [
      "Epoch 1/10\n",
      "\u001b[1m8788/8788\u001b[0m \u001b[32m━━━━━━━━━━━━━━━━━━━━\u001b[0m\u001b[37m\u001b[0m \u001b[1m21s\u001b[0m 2ms/step - accuracy: 0.8671 - loss: 5.7766 - val_accuracy: 0.8825 - val_loss: 0.3620\n",
      "Epoch 2/10\n",
      "\u001b[1m8788/8788\u001b[0m \u001b[32m━━━━━━━━━━━━━━━━━━━━\u001b[0m\u001b[37m\u001b[0m \u001b[1m17s\u001b[0m 2ms/step - accuracy: 0.8824 - loss: 0.3628 - val_accuracy: 0.8825 - val_loss: 0.3622\n",
      "Epoch 3/10\n",
      "\u001b[1m8788/8788\u001b[0m \u001b[32m━━━━━━━━━━━━━━━━━━━━\u001b[0m\u001b[37m\u001b[0m \u001b[1m17s\u001b[0m 2ms/step - accuracy: 0.8857 - loss: 0.3556 - val_accuracy: 0.8825 - val_loss: 0.3620\n",
      "Epoch 4/10\n",
      "\u001b[1m8788/8788\u001b[0m \u001b[32m━━━━━━━━━━━━━━━━━━━━\u001b[0m\u001b[37m\u001b[0m \u001b[1m17s\u001b[0m 2ms/step - accuracy: 0.8855 - loss: 0.3566 - val_accuracy: 0.8825 - val_loss: 0.3628\n",
      "Epoch 5/10\n",
      "\u001b[1m8788/8788\u001b[0m \u001b[32m━━━━━━━━━━━━━━━━━━━━\u001b[0m\u001b[37m\u001b[0m \u001b[1m17s\u001b[0m 2ms/step - accuracy: 0.8841 - loss: 0.3590 - val_accuracy: 0.8825 - val_loss: 0.3621\n"
     ]
    }
   ],
   "source": [
    "early_stopping = EarlyStopping(monitor='val_loss', patience=2,\n",
    "                                restore_best_weights=True)\n",
    "history = model.fit(X_train, y_train, batch_size=10, epochs=10,\n",
    "                     validation_split=0.15, callbacks=[early_stopping])"
   ]
  },
  {
   "cell_type": "markdown",
   "id": "20ce9661",
   "metadata": {},
   "source": [
    "## Evaluate the Model\n",
    "Evaluate the performance of the model on the test set."
   ]
  },
  {
   "cell_type": "code",
   "execution_count": 74,
   "id": "73167afc",
   "metadata": {},
   "outputs": [
    {
     "name": "stdout",
     "output_type": "stream",
     "text": [
      "\u001b[1m1385/1385\u001b[0m \u001b[32m━━━━━━━━━━━━━━━━━━━━\u001b[0m\u001b[37m\u001b[0m \u001b[1m2s\u001b[0m 1ms/step - accuracy: 0.8856 - loss: 0.3556\n"
     ]
    },
    {
     "data": {
      "text/plain": [
       "[0.35511791706085205, 0.8858445286750793]"
      ]
     },
     "execution_count": 74,
     "metadata": {},
     "output_type": "execute_result"
    }
   ],
   "source": [
    "model.evaluate(X_test, y_test)"
   ]
  },
  {
   "cell_type": "markdown",
   "id": "08e9bc87",
   "metadata": {},
   "source": [
    "## Make Predictions\n",
    "Use the trained model to make predictions on new or unseen data."
   ]
  },
  {
   "cell_type": "code",
   "execution_count": 75,
   "id": "940fa394",
   "metadata": {},
   "outputs": [
    {
     "name": "stdout",
     "output_type": "stream",
     "text": [
      "\u001b[1m1385/1385\u001b[0m \u001b[32m━━━━━━━━━━━━━━━━━━━━\u001b[0m\u001b[37m\u001b[0m \u001b[1m2s\u001b[0m 1ms/step\n"
     ]
    }
   ],
   "source": [
    "pred = model.predict(X_test)"
   ]
  },
  {
   "cell_type": "code",
   "execution_count": 76,
   "id": "fa8b36a6",
   "metadata": {},
   "outputs": [
    {
     "name": "stdout",
     "output_type": "stream",
     "text": [
      "0.8858445427462309\n"
     ]
    }
   ],
   "source": [
    "pred_labels = (pred > 0.5).astype(int)\n",
    "print(accuracy_score(y_test, pred_labels))"
   ]
  },
  {
   "cell_type": "markdown",
   "id": "94942463",
   "metadata": {},
   "source": [
    "## Model Performance Visualization\n",
    "Visualize the performance metrics such as accuracy and loss over the epochs."
   ]
  },
  {
   "cell_type": "code",
   "execution_count": 77,
   "id": "b1955952",
   "metadata": {},
   "outputs": [
    {
     "data": {
      "image/png": "[encoded data removed]",
      "text/plain": [
       "<Figure size 1000x600 with 1 Axes>"
      ]
     },
     "metadata": {},
     "output_type": "display_data"
    }
   ],
   "source": [
    "import matplotlib.pyplot as plt\n",
    "\n",
    "# Plotting the training loss vs validation loss\n",
    "plt.figure(figsize=(10, 6))\n",
    "plt.plot(history.history['loss'], label='Training Loss')\n",
    "plt.plot(history.history['val_loss'], label='Validation Loss')\n",
    "plt.title('Training and Validation Loss')\n",
    "plt.xlabel('Epochs')\n",
    "plt.ylabel('Loss')\n",
    "plt.legend()\n",
    "plt.show()"
   ]
  },
  {
   "cell_type": "markdown",
   "id": "1d32965f",
   "metadata": {},
   "source": [
    "## Save the Model\n",
    "Save the trained model for submission."
   ]
  },
  {
   "cell_type": "code",
   "execution_count": null,
   "id": "a4e1f00e",
   "metadata": {},
   "outputs": [],
   "source": []
  },
  {
   "cell_type": "markdown",
   "id": "9ebe9b8d",
   "metadata": {},
   "source": [
    "## Project Questions:\n",
    "\n",
    "1. **Data Preprocessing**: Explain why you chose your specific data preprocessing techniques (e.g., normalization, encoding). How did these techniques help prepare the data for training the model?\n",
    "2. **Model Architecture**: Describe the reasoning behind your model’s architecture (e.g., the number of layers, type of layers, number of neurons, and activation functions). Why did you believe this architecture was appropriate for the problem at hand?\n",
    "3. **Training Process**: Discuss why you chose your batch size, number of epochs, and optimizer. How did these choices affect the training process? Did you experiment with different values, and what were the outcomes?\n",
    "4. **Loss Function and Metrics**: Why did you choose the specific loss function and evaluation metrics? How do they align with the objective of the task (e.g., regression vs classification)?\n",
    "5. **Regularization Techniques**: If you used regularization techniques such as dropout or weight decay, explain why you implemented them and how they influenced the model's performance.\n",
    "6. **Model Evaluation**: Justify your approach to evaluating the model. Why did you choose the specific performance metrics, and how do they reflect the model's success in solving the task?\n",
    "7. **Model Tuning (If Done)**: Describe any tuning you performed (e.g., hyperparameter tuning) and why you felt it was necessary. How did these adjustments improve model performance?\n",
    "8. **Overfitting and Underfitting**: Analyze whether the model encountered any overfitting or underfitting during training. What strategies could you implement to mitigate these issues?"
   ]
  },
  {
   "cell_type": "markdown",
   "id": "5f524a61",
   "metadata": {},
   "source": [
    "### Answer Here:"
   ]
  },
  {
   "cell_type": "markdown",
   "id": "0192eb4d",
   "metadata": {},
   "source": [
    "1. most of the data were object types and I used label encoding to transform them to numiercal type I also droped unwanted columns and filled nan values\n",
    "\n",
    "2. I used 3 layres of fully connected networks maybe adding more will affect the accuarcy of the model but I have no time to test that\n",
    "\n",
    "3. I chose small epochs and batch size becouse I don't want the training to take a long time \n",
    "\n",
    "4. I choose the sigmoid function becouse it is a classification problem \n",
    "\n",
    "5. I used dropout to prevent overfitting \n",
    "\n",
    "6. I used model.evaluate and used the accuracy metric \n",
    "\n",
    "7. there was no time\n",
    "\n",
    "8. before dropout it seemd like the model was overfitting"
   ]
  },
  {
   "cell_type": "markdown",
   "id": "415e391b",
   "metadata": {},
   "source": [
    "# **THANK YOU :)**"
   ]
  },
  {
   "cell_type": "markdown",
   "id": "39ed32da",
   "metadata": {},
   "source": []
  }
 ],
 "metadata": {
  "kernelspec": {
   "display_name": "Python 3",
   "language": "python",
   "name": "python3"
  },
  "language_info": {
   "codemirror_mode": {
    "name": "ipython",
    "version": 3
   },
   "file_extension": ".py",
   "mimetype": "text/x-python",
   "name": "python",
   "nbconvert_exporter": "python",
   "pygments_lexer": "ipython3",
   "version": "3.11.9"
  }
 },
 "nbformat": 4,
 "nbformat_minor": 5
}
